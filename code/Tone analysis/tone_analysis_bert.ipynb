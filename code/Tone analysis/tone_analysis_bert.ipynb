{
  "cells": [
    {
      "cell_type": "code",
      "execution_count": 32,
      "metadata": {
        "colab": {
          "base_uri": "https://localhost:8080/"
        },
        "id": "DxAuOp6xC-cM",
        "outputId": "cb35f213-eb92-4194-bc6b-fed15cd60f70"
      },
      "outputs": [],
      "source": [
        "# !pip install transformers\n",
        "\n",
        "# import libraries\n",
        "import os\n",
        "import torch\n",
        "import pandas as pd\n",
        "import numpy as np\n",
        "from sklearn.model_selection import train_test_split\n",
        "from sklearn.metrics import f1_score\n",
        "from transformers import BertTokenizer, BertForSequenceClassification\n",
        "from transformers import AutoConfig\n",
        "from transformers import AutoModelForSequenceClassification\n",
        "from transformers import AdamW\n",
        "from transformers import get_linear_schedule_with_warmup\n",
        "import matplotlib.pyplot as plt\n",
        "from tqdm import tqdm\n",
        "import time\n",
        "import datetime\n",
        "import random\n",
        "import spacy\n",
        "from torch.utils.data import TensorDataset, DataLoader"
      ]
    },
    {
      "cell_type": "markdown",
      "metadata": {},
      "source": [
        "#### Data Loading"
      ]
    },
    {
      "cell_type": "code",
      "execution_count": 33,
      "metadata": {},
      "outputs": [
        {
          "name": "stdout",
          "output_type": "stream",
          "text": [
            "label\n",
            "2    31421\n",
            "0    16947\n",
            "1    11632\n",
            "Name: count, dtype: int64\n"
          ]
        }
      ],
      "source": [
        "df1=pd.read_csv(\"generic_sentiment_dataset_50k.csv\")\n",
        "df2=pd.read_csv(\"generic_sentiment_dataset_10k.csv\")\n",
        "\n",
        "# combine the two datasets\n",
        "df = pd.concat([df1, df2], ignore_index=True)\n",
        "print(df['label'].value_counts())\n"
      ]
    },
    {
      "cell_type": "code",
      "execution_count": 34,
      "metadata": {},
      "outputs": [
        {
          "data": {
            "text/html": [
              "<div>\n",
              "<style scoped>\n",
              "    .dataframe tbody tr th:only-of-type {\n",
              "        vertical-align: middle;\n",
              "    }\n",
              "\n",
              "    .dataframe tbody tr th {\n",
              "        vertical-align: top;\n",
              "    }\n",
              "\n",
              "    .dataframe thead th {\n",
              "        text-align: right;\n",
              "    }\n",
              "</style>\n",
              "<table border=\"1\" class=\"dataframe\">\n",
              "  <thead>\n",
              "    <tr style=\"text-align: right;\">\n",
              "      <th></th>\n",
              "      <th>sentiment</th>\n",
              "      <th>text</th>\n",
              "      <th>label</th>\n",
              "    </tr>\n",
              "  </thead>\n",
              "  <tbody>\n",
              "    <tr>\n",
              "      <th>0</th>\n",
              "      <td>positive</td>\n",
              "      <td>16lbs is still a huge achievement though</td>\n",
              "      <td>2</td>\n",
              "    </tr>\n",
              "    <tr>\n",
              "      <th>1</th>\n",
              "      <td>positive</td>\n",
              "      <td>Good</td>\n",
              "      <td>2</td>\n",
              "    </tr>\n",
              "    <tr>\n",
              "      <th>2</th>\n",
              "      <td>negative</td>\n",
              "      <td>Plz plz do not buy this phone..this is a jugad...</td>\n",
              "      <td>0</td>\n",
              "    </tr>\n",
              "    <tr>\n",
              "      <th>3</th>\n",
              "      <td>neutral</td>\n",
              "      <td>Good</td>\n",
              "      <td>1</td>\n",
              "    </tr>\n",
              "    <tr>\n",
              "      <th>4</th>\n",
              "      <td>positive</td>\n",
              "      <td>Design:\\nI bought this phone in moonlight col...</td>\n",
              "      <td>2</td>\n",
              "    </tr>\n",
              "    <tr>\n",
              "      <th>...</th>\n",
              "      <td>...</td>\n",
              "      <td>...</td>\n",
              "      <td>...</td>\n",
              "    </tr>\n",
              "    <tr>\n",
              "      <th>34495</th>\n",
              "      <td>positive</td>\n",
              "      <td>Improve battery life but it's camera and finge...</td>\n",
              "      <td>2</td>\n",
              "    </tr>\n",
              "    <tr>\n",
              "      <th>34496</th>\n",
              "      <td>positive</td>\n",
              "      <td>has just finished reading Twilight and thought...</td>\n",
              "      <td>2</td>\n",
              "    </tr>\n",
              "    <tr>\n",
              "      <th>34497</th>\n",
              "      <td>negative</td>\n",
              "      <td>Tuch working very poor, bad camera quality</td>\n",
              "      <td>0</td>\n",
              "    </tr>\n",
              "    <tr>\n",
              "      <th>34498</th>\n",
              "      <td>positive</td>\n",
              "      <td>In the reporting period , the company 's opera...</td>\n",
              "      <td>2</td>\n",
              "    </tr>\n",
              "    <tr>\n",
              "      <th>34499</th>\n",
              "      <td>neutral</td>\n",
              "      <td>Good product under 10k</td>\n",
              "      <td>1</td>\n",
              "    </tr>\n",
              "  </tbody>\n",
              "</table>\n",
              "<p>34500 rows × 3 columns</p>\n",
              "</div>"
            ],
            "text/plain": [
              "      sentiment                                               text  label\n",
              "0      positive           16lbs is still a huge achievement though      2\n",
              "1      positive                                               Good      2\n",
              "2      negative  Plz plz do not buy this phone..this is a jugad...      0\n",
              "3       neutral                                               Good      1\n",
              "4      positive   Design:\\nI bought this phone in moonlight col...      2\n",
              "...         ...                                                ...    ...\n",
              "34495  positive  Improve battery life but it's camera and finge...      2\n",
              "34496  positive  has just finished reading Twilight and thought...      2\n",
              "34497  negative         Tuch working very poor, bad camera quality      0\n",
              "34498  positive  In the reporting period , the company 's opera...      2\n",
              "34499   neutral                             Good product under 10k      1\n",
              "\n",
              "[34500 rows x 3 columns]"
            ]
          },
          "execution_count": 34,
          "metadata": {},
          "output_type": "execute_result"
        }
      ],
      "source": [
        "# Take a subset of the data for faster processing\n",
        "# 34500 rows of data from the original dataset\n",
        "# 11500 rows for each of the 3 classes (positive, negative, neutral)\n",
        "# set random seed for reproducibility\n",
        "\n",
        "seed = 42\n",
        "df_clean = df.dropna()  # drop rows with missing values\n",
        "df_clean = df_clean.sample(frac=1).reset_index(drop=True)           # shuffle the data\n",
        "df_clean = df_clean.groupby('sentiment').head(11500)          # take 11500 rows from each class\n",
        "df_clean = df_clean.sample(frac=1).reset_index(drop=True)     # shuffle the data again\n",
        "df_clean"
      ]
    },
    {
      "cell_type": "markdown",
      "metadata": {},
      "source": [
        "#### Load preprocessed data"
      ]
    },
    {
      "cell_type": "code",
      "execution_count": 35,
      "metadata": {
        "id": "xPpsvPjEC-cO"
      },
      "outputs": [],
      "source": [
        "torch.cuda.empty_cache()\n",
        "\n",
        "# Data splits\n",
        "# -------------\n",
        "# split the data into train, validation and test sets\n",
        "seed1 = 42\n",
        "seed2 = 52\n",
        "X_train_and_val, X_test, y_train_and_val, y_test = train_test_split(df_clean.drop('label', axis=1), df_clean['label'], test_size=0.2, random_state=seed1)\n",
        "X_train, X_val, y_train, y_val = train_test_split(X_train_and_val, y_train_and_val, test_size=X_test.shape[0], random_state=seed2)\n",
        "\n",
        "X_train_and_val_nn = X_train_and_val['text']\n",
        "X_train_nn = X_train['text']\n",
        "X_val_nn = X_val['text']\n",
        "X_test_nn = X_test['text']"
      ]
    },
    {
      "cell_type": "code",
      "execution_count": 36,
      "metadata": {},
      "outputs": [
        {
          "name": "stdout",
          "output_type": "stream",
          "text": [
            "0\n",
            "0\n",
            "0\n",
            "0\n"
          ]
        }
      ],
      "source": [
        "# check if there are any null values\n",
        "print(X_train_and_val_nn.isnull().sum())\n",
        "print(X_train_nn.isnull().sum())\n",
        "print(X_val_nn.isnull().sum())\n",
        "print(X_test_nn.isnull().sum())"
      ]
    },
    {
      "cell_type": "markdown",
      "metadata": {},
      "source": [
        "### BERT Model (Optimized) - with Smart Padding\n",
        "In order to improve over the previous model in terms of computatioal efficiency, smart padding technique is used where the padding is dynamically changed based on the length of the sequences."
      ]
    },
    {
      "cell_type": "code",
      "execution_count": 37,
      "metadata": {
        "colab": {
          "base_uri": "https://localhost:8080/",
          "height": 113,
          "referenced_widgets": [
            "e16dab1f2b3d40dbb4e9831bae53f60e",
            "d6d29ba521e34d68b93125172e1fa0bd",
            "95dff7dae4854e00bff18e3b95532180",
            "faf80d9976dc4afeb953a8e419ace17c",
            "86f68f17d8f645d3952a35f86a29eb13",
            "f9575d7bb42c421cab9753a1878faa50",
            "f803588ca5d840028855454d6269ff60",
            "6e3607b7dc614e638968237b60d57221",
            "cce020115ed24d80ac88d8c89f141360",
            "aff5a0e8fbc54b72b00e763f397fb289",
            "f06b651a7b7f45a39274b4f374e574c8",
            "f4d929043b6345909fa0ea2b11d9ae5f",
            "b85a79a33f2d4547a32897bcf663595e",
            "2065b6339d8746b0a335396d3a16dd11",
            "1f9924c7bbb543ca8a7d167e3990f55b",
            "a4b245840eb6414d90ac953fe77f1e0b",
            "1cc5c4ee950846c6ba1d25d87301499c",
            "15a4f7ab5cd24a47af482904fe4c1b17",
            "d475e4affb484953a77d12afb0b85eab",
            "dd80c68536ed4d51b118d667e8be7537",
            "c93408368361445080cdad6dddf1a3bb",
            "5e2b04fbffa946278af5d44d6c8b398d",
            "5acf2d10cb4340389667526bd91959cb",
            "213b68cdeb634b849938579906b64871",
            "57e8db1f36814abb9a81be3b8e73469f",
            "a3b71073eabb4c48831b574cb763f15a",
            "2d8b2e11406c4df58e7ba2992dacd20d",
            "bb727e9810114f459a70b319f76bebc6",
            "76c7986cbaf04f0198a99ec307a0c27e",
            "195a3375b2204004b548cdd91316e5f6",
            "67d91181b11c4dcc9a1c4e10946bef6d",
            "e3f1492a5d344d4788a6deb7c8e8d632",
            "54ffa10b88be4819acca71fa934b1678"
          ]
        },
        "id": "SxoHHWY-C-cP",
        "outputId": "a780de5e-c4c9-499e-a9d6-b33ae00fecff"
      },
      "outputs": [],
      "source": [
        "# Load the BERT tokenizer.\n",
        "tokenizer = BertTokenizer.from_pretrained('bert-base-uncased', do_lower_case=True)"
      ]
    },
    {
      "cell_type": "code",
      "execution_count": 38,
      "metadata": {
        "colab": {
          "base_uri": "https://localhost:8080/"
        },
        "id": "a1wCivCZC-cP",
        "outputId": "ac9c3a9e-c3f7-4ec7-816c-e60802091d3b"
      },
      "outputs": [
        {
          "name": "stdout",
          "output_type": "stream",
          "text": [
            "Tokenizing 20,700 training samples...\n"
          ]
        },
        {
          "name": "stderr",
          "output_type": "stream",
          "text": [
            "  1%|▏         | 273/20700 [00:00<00:07, 2725.67it/s]"
          ]
        },
        {
          "name": "stdout",
          "output_type": "stream",
          "text": [
            "  Tokenized 0 samples.\n"
          ]
        },
        {
          "name": "stderr",
          "output_type": "stream",
          "text": [
            "  7%|▋         | 1412/20700 [00:00<00:07, 2690.93it/s]"
          ]
        },
        {
          "name": "stdout",
          "output_type": "stream",
          "text": [
            "  Tokenized 1,000 samples.\n"
          ]
        },
        {
          "name": "stderr",
          "output_type": "stream",
          "text": [
            " 13%|█▎        | 2736/20700 [00:01<00:07, 2509.67it/s]"
          ]
        },
        {
          "name": "stdout",
          "output_type": "stream",
          "text": [
            "  Tokenized 2,000 samples.\n"
          ]
        },
        {
          "name": "stderr",
          "output_type": "stream",
          "text": [
            " 17%|█▋        | 3588/20700 [00:01<00:06, 2687.08it/s]"
          ]
        },
        {
          "name": "stdout",
          "output_type": "stream",
          "text": [
            "  Tokenized 3,000 samples.\n"
          ]
        },
        {
          "name": "stderr",
          "output_type": "stream",
          "text": [
            " 23%|██▎       | 4687/20700 [00:01<00:06, 2647.84it/s]"
          ]
        },
        {
          "name": "stdout",
          "output_type": "stream",
          "text": [
            "  Tokenized 4,000 samples.\n"
          ]
        },
        {
          "name": "stderr",
          "output_type": "stream",
          "text": [
            " 27%|██▋       | 5525/20700 [00:02<00:05, 2727.01it/s]"
          ]
        },
        {
          "name": "stdout",
          "output_type": "stream",
          "text": [
            "  Tokenized 5,000 samples.\n"
          ]
        },
        {
          "name": "stderr",
          "output_type": "stream",
          "text": [
            " 31%|███       | 6407/20700 [00:02<00:05, 2780.55it/s]"
          ]
        },
        {
          "name": "stdout",
          "output_type": "stream",
          "text": [
            "  Tokenized 6,000 samples.\n"
          ]
        },
        {
          "name": "stderr",
          "output_type": "stream",
          "text": [
            " 35%|███▍      | 7238/20700 [00:02<00:05, 2537.75it/s]"
          ]
        },
        {
          "name": "stdout",
          "output_type": "stream",
          "text": [
            "  Tokenized 7,000 samples.\n"
          ]
        },
        {
          "name": "stderr",
          "output_type": "stream",
          "text": [
            " 40%|████      | 8374/20700 [00:03<00:04, 2688.99it/s]"
          ]
        },
        {
          "name": "stdout",
          "output_type": "stream",
          "text": [
            "  Tokenized 8,000 samples.\n"
          ]
        },
        {
          "name": "stderr",
          "output_type": "stream",
          "text": [
            " 46%|████▌     | 9456/20700 [00:03<00:04, 2561.24it/s]"
          ]
        },
        {
          "name": "stdout",
          "output_type": "stream",
          "text": [
            "  Tokenized 9,000 samples.\n"
          ]
        },
        {
          "name": "stderr",
          "output_type": "stream",
          "text": [
            " 51%|█████     | 10532/20700 [00:03<00:03, 2649.95it/s]"
          ]
        },
        {
          "name": "stdout",
          "output_type": "stream",
          "text": [
            "  Tokenized 10,000 samples.\n"
          ]
        },
        {
          "name": "stderr",
          "output_type": "stream",
          "text": [
            " 56%|█████▌    | 11579/20700 [00:04<00:03, 2551.02it/s]"
          ]
        },
        {
          "name": "stdout",
          "output_type": "stream",
          "text": [
            "  Tokenized 11,000 samples.\n"
          ]
        },
        {
          "name": "stderr",
          "output_type": "stream",
          "text": [
            " 60%|█████▉    | 12407/20700 [00:04<00:03, 2641.20it/s]"
          ]
        },
        {
          "name": "stdout",
          "output_type": "stream",
          "text": [
            "  Tokenized 12,000 samples.\n"
          ]
        },
        {
          "name": "stderr",
          "output_type": "stream",
          "text": [
            " 65%|██████▌   | 13490/20700 [00:05<00:02, 2655.74it/s]"
          ]
        },
        {
          "name": "stdout",
          "output_type": "stream",
          "text": [
            "  Tokenized 13,000 samples.\n"
          ]
        },
        {
          "name": "stderr",
          "output_type": "stream",
          "text": [
            " 69%|██████▉   | 14322/20700 [00:05<00:02, 2702.61it/s]"
          ]
        },
        {
          "name": "stdout",
          "output_type": "stream",
          "text": [
            "  Tokenized 14,000 samples.\n"
          ]
        },
        {
          "name": "stderr",
          "output_type": "stream",
          "text": [
            " 74%|███████▍  | 15388/20700 [00:05<00:02, 2516.39it/s]"
          ]
        },
        {
          "name": "stdout",
          "output_type": "stream",
          "text": [
            "  Tokenized 15,000 samples.\n"
          ]
        },
        {
          "name": "stderr",
          "output_type": "stream",
          "text": [
            " 79%|███████▉  | 16413/20700 [00:06<00:01, 2468.27it/s]"
          ]
        },
        {
          "name": "stdout",
          "output_type": "stream",
          "text": [
            "  Tokenized 16,000 samples.\n"
          ]
        },
        {
          "name": "stderr",
          "output_type": "stream",
          "text": [
            " 84%|████████▍ | 17438/20700 [00:06<00:01, 2512.71it/s]"
          ]
        },
        {
          "name": "stdout",
          "output_type": "stream",
          "text": [
            "  Tokenized 17,000 samples.\n"
          ]
        },
        {
          "name": "stderr",
          "output_type": "stream",
          "text": [
            " 88%|████████▊ | 18292/20700 [00:07<00:00, 2615.25it/s]"
          ]
        },
        {
          "name": "stdout",
          "output_type": "stream",
          "text": [
            "  Tokenized 18,000 samples.\n"
          ]
        },
        {
          "name": "stderr",
          "output_type": "stream",
          "text": [
            " 94%|█████████▎| 19364/20700 [00:07<00:00, 2620.78it/s]"
          ]
        },
        {
          "name": "stdout",
          "output_type": "stream",
          "text": [
            "  Tokenized 19,000 samples.\n"
          ]
        },
        {
          "name": "stderr",
          "output_type": "stream",
          "text": [
            " 99%|█████████▉| 20455/20700 [00:07<00:00, 2691.20it/s]"
          ]
        },
        {
          "name": "stdout",
          "output_type": "stream",
          "text": [
            "  Tokenized 20,000 samples.\n"
          ]
        },
        {
          "name": "stderr",
          "output_type": "stream",
          "text": [
            "100%|██████████| 20700/20700 [00:07<00:00, 2607.76it/s]"
          ]
        },
        {
          "name": "stdout",
          "output_type": "stream",
          "text": [
            "DONE with 20700 samples\n"
          ]
        },
        {
          "name": "stderr",
          "output_type": "stream",
          "text": [
            "\n"
          ]
        }
      ],
      "source": [
        "tokens = []\n",
        "labels = []\n",
        "max_len = 256\n",
        "update_interval = 1000\n",
        "\n",
        "# Tokenize all training examples\n",
        "print('Tokenizing {:,} training samples...'.format(len(X_train_nn)))\n",
        "\n",
        "# For each training example...\n",
        "for text in tqdm(X_train_nn):\n",
        "    # Report progress.\n",
        "    if ((len(tokens) % update_interval) == 0):\n",
        "        print('  Tokenized {:,} samples.'.format(len(tokens)))\n",
        "    # Tokenize the sentence.\n",
        "    input_ids = tokenizer.encode(text=text,\n",
        "                                 add_special_tokens=True,\n",
        "                                 max_length=max_len,\n",
        "                                 truncation=True,\n",
        "                                 padding=False)\n",
        "    \n",
        "\n",
        "    # Add the tokenized result to our list.\n",
        "    tokens.append(input_ids)\n",
        "\n",
        "print('DONE with {} samples'.format(len(tokens)))\n"
      ]
    },
    {
      "cell_type": "code",
      "execution_count": 39,
      "metadata": {
        "colab": {
          "base_uri": "https://localhost:8080/"
        },
        "id": "ooqpbTKcC-cP",
        "outputId": "ce7bd0bf-7124-42e8-ba8d-a2f4f56fbf63"
      },
      "outputs": [
        {
          "name": "stdout",
          "output_type": "stream",
          "text": [
            "Shortest sample: 3\n",
            "Longest sample: 256\n"
          ]
        }
      ],
      "source": [
        "# Sort training samples by the length of their input sequence.\n",
        "train_samples = sorted(zip(tokens, y_train), key=lambda x: len(x[0]))\n",
        "print('Shortest sample:', len(train_samples[0][0]))\n",
        "print('Longest sample:', len(train_samples[-1][0]))"
      ]
    },
    {
      "cell_type": "code",
      "execution_count": 40,
      "metadata": {
        "colab": {
          "base_uri": "https://localhost:8080/",
          "height": 472
        },
        "id": "po8dvUFKC-cP",
        "outputId": "4c1bf3f5-980c-4316-885f-acea5622b34a"
      },
      "outputs": [
        {
          "data": {
            "image/png": "[encoded data removed]",
            "text/plain": [
              "<Figure size 432x288 with 1 Axes>"
            ]
          },
          "metadata": {
            "needs_background": "light"
          },
          "output_type": "display_data"
        }
      ],
      "source": [
        "# Get the new list of lengths after sorting.\n",
        "sorted_lengths = [len(s[0]) for s in train_samples]\n",
        "\n",
        "# Plot the sequence lengths for visualization.\n",
        "plt.plot(range(0, len(sorted_lengths)), sorted_lengths)\n",
        "plt.xlabel('Sample Number')\n",
        "plt.ylabel('Length of Sequence')\n",
        "plt.title('Sequence lengths of training set samples')\n",
        "plt.show()"
      ]
    },
    {
      "cell_type": "code",
      "execution_count": 41,
      "metadata": {
        "id": "pB_4WQG7C-cQ"
      },
      "outputs": [],
      "source": [
        "def create_smart_padded_batches(text_samples, labels, batch_size, max_len = 256):\n",
        "    print('Forming smart batches from {} examples. Batch size {}\\n'.format(len(text_samples), batch_size))\n",
        "    # ------------------------------------------------------------------\n",
        "    # First tokenize all the samples and truncate them to a max length.\n",
        "    # ------------------------------------------------------------------\n",
        "    tokenized_inputs = []\n",
        "    for sample in tqdm(text_samples):\n",
        "        # Tokenize the sample\n",
        "        tokenized_input = tokenizer.encode(text=sample,\n",
        "                                     add_special_tokens=True,\n",
        "                                     max_length=max_len,\n",
        "                                     truncation=True,\n",
        "                                     padding=False)\n",
        "        # Add to list\n",
        "        tokenized_inputs.append(tokenized_input)\n",
        "    print('Finished tokenizing: {:>10,} samples\\n'.format(len(tokenized_inputs)))\n",
        "\n",
        "    # ---------------------------------------------------------------------\n",
        "    # Batch the tokenized sequences together after sorting them by length.\n",
        "    # ---------------------------------------------------------------------\n",
        "    sorted_samples_labels = sorted(zip(tokenized_inputs, labels), key=lambda x: len(x[0]))\n",
        "\n",
        "    # Create lists of batches of samples and labels.\n",
        "    batch_ordered_sentences = []\n",
        "    batch_ordered_labels = []\n",
        "\n",
        "    # Loop over the input samples until it is empty\n",
        "    while len(sorted_samples_labels) > 0:\n",
        "        # Print progress after 500 batches.\n",
        "        if ((len(batch_ordered_sentences) % 500) == 0):\n",
        "            print(' Finished {:,} batches.'.format(len(batch_ordered_sentences)))\n",
        "\n",
        "        # num_samples_to_pick = normally batch size, for the last batch it will be the remaining samples\n",
        "        num_samples_to_pick = min(batch_size, len(sorted_samples_labels))\n",
        "\n",
        "        # Start at a random point in the list of samples and choose num_samples_to_pick contiguous samples\n",
        "        start = random.randint(0, len(sorted_samples_labels) - num_samples_to_pick)\n",
        "        batch = sorted_samples_labels[start:start + num_samples_to_pick]\n",
        "\n",
        "        # Split the (samples, labels) tuples into samples and labels\n",
        "        batch_ordered_sentences.append([s[0] for s in batch])\n",
        "        batch_ordered_labels.append([s[1] for s in batch])\n",
        "\n",
        "        # Remove these samples from the original list of training samples.\n",
        "        del sorted_samples_labels[start:start + num_samples_to_pick]\n",
        "    print('\\n  Finished processing {:,} batches.'.format(len(batch_ordered_sentences)))\n",
        "\n",
        "    # --------------\n",
        "    #  Add Padding\n",
        "    # --------------\n",
        "    py_inputs = []\n",
        "    py_attn_masks = []\n",
        "    py_labels = []\n",
        "\n",
        "    # For each batch...\n",
        "    for (batch_inputs, batch_labels) in zip(batch_ordered_sentences, batch_ordered_labels):\n",
        "        # Lists of padded inputs and masks\n",
        "        batch_padded_inputs = []\n",
        "        batch_attn_masks = []\n",
        "\n",
        "        # Get the longest sequence size in the current batch\n",
        "        max_size = max([len(sen) for sen in batch_inputs])\n",
        "\n",
        "        # Pad the sequences uptp the max_size and also create the attention masks.\n",
        "        for sen in batch_inputs:\n",
        "            padding_count = max_size - len(sen)\n",
        "            # Add the token for padding at the end of the sequence.\n",
        "            padded_input = sen + [tokenizer.pad_token_id]*padding_count\n",
        "            # Create the attention mask with 1 for real tokens and 0 for padding tokens.\n",
        "            attn_mask = [1] * len(sen) + [0] * padding_count\n",
        "            # Add these to the lists.\n",
        "            batch_padded_inputs.append(padded_input)\n",
        "            batch_attn_masks.append(attn_mask)\n",
        "\n",
        "        # Convert to tensors and add to the lists.\n",
        "        py_inputs.append(torch.tensor(batch_padded_inputs))\n",
        "        py_attn_masks.append(torch.tensor(batch_attn_masks))\n",
        "        py_labels.append(torch.tensor(batch_labels))\n",
        "\n",
        "    print('Finished Padding.')\n",
        "    token_count_padded = 0\n",
        "    for batch in py_inputs:\n",
        "        for sen in batch:\n",
        "            token_count_padded += len(sen)\n",
        "    token_count_fixed = max_len * len(py_inputs) * batch_size\n",
        "    print('  Number of tokens with fixed padding: {}'.format(token_count_fixed))\n",
        "    print('  Number of tokens with smart padding: {}'.format(token_count_padded))\n",
        "    print('  Percentage reduction in tokens is: {:,.2f}%'.format(100*(token_count_fixed-token_count_padded)/token_count_fixed))\n",
        "\n",
        "    # Return the dataset\n",
        "    return (py_inputs, py_attn_masks, py_labels)"
      ]
    },
    {
      "cell_type": "code",
      "execution_count": 42,
      "metadata": {
        "id": "oTvV9Jz9C-cQ"
      },
      "outputs": [],
      "source": [
        "def format_time(elapsed):\n",
        "    # Return time as string hh:mm:ss\n",
        "    time_int = int(round((elapsed)))\n",
        "    # Format as hh:mm:ss\n",
        "    return str(datetime.timedelta(seconds=time_int))"
      ]
    },
    {
      "cell_type": "code",
      "execution_count": 43,
      "metadata": {
        "colab": {
          "base_uri": "https://localhost:8080/",
          "height": 173,
          "referenced_widgets": [
            "8987905efaff45c39188a0b543fa2343",
            "689ac92d11414ef29068fcebd1ec1b89",
            "219eff0d81a3479187a4674b58d77461",
            "de54a24e5f8b4c3780146a5f65cb3ac9",
            "01d433b5612f4925869fcacb1aafed11",
            "49d6048613e54a399c342da92c557974",
            "e1f87b7f4d9e449796b257a5a48ef6c4",
            "d525b9bcdb4546b699981ca411c03054",
            "25a87c2c0dea4cfc839252e976d1da24",
            "613c38b31e1343b3a9aa55893309beaa",
            "36e818783c3643df885912802367e7c1"
          ]
        },
        "id": "2XM37Zr4C-cQ",
        "outputId": "5aa0df50-404c-4985-95ed-971f8390db2c"
      },
      "outputs": [
        {
          "name": "stderr",
          "output_type": "stream",
          "text": [
            "Some weights of BertForSequenceClassification were not initialized from the model checkpoint at bert-base-uncased and are newly initialized: ['classifier.weight', 'classifier.bias']\n",
            "You should probably TRAIN this model on a down-stream task to be able to use it for predictions and inference.\n"
          ]
        },
        {
          "name": "stdout",
          "output_type": "stream",
          "text": [
            "Config: <class 'transformers.models.bert.configuration_bert.BertConfig'> \n",
            "\n",
            "Model type: <class 'transformers.models.bert.modeling_bert.BertForSequenceClassification'>\n",
            "DONE.\n"
          ]
        }
      ],
      "source": [
        "# Create config and network for multiclass sequence classification.\n",
        "config = AutoConfig.from_pretrained(pretrained_model_name_or_path='bert-base-uncased',\n",
        "                                    num_labels=3)\n",
        "model = AutoModelForSequenceClassification.from_pretrained(\n",
        "    pretrained_model_name_or_path='bert-base-uncased',\n",
        "    config=config)\n",
        "\n",
        "print('Config:', str(type(config)), '\\n')\n",
        "print('Model type:', str(type(model)))\n",
        "\n",
        "# Load the model on the GPU\n",
        "device = torch.device('cpu')\n",
        "if torch.cuda.is_available():\n",
        "    device = torch.device('cuda')\n",
        "\n",
        "desc = model.to(device)\n",
        "print('DONE.')"
      ]
    },
    {
      "cell_type": "code",
      "execution_count": 44,
      "metadata": {
        "colab": {
          "base_uri": "https://localhost:8080/"
        },
        "id": "a22bR701C-cR",
        "outputId": "3f1e633c-62a6-423d-e9f6-1353793949d5"
      },
      "outputs": [
        {
          "name": "stdout",
          "output_type": "stream",
          "text": [
            "Forming smart batches from 20700 examples. Batch size 8\n",
            "\n"
          ]
        },
        {
          "name": "stderr",
          "output_type": "stream",
          "text": [
            "100%|██████████| 20700/20700 [00:07<00:00, 2625.10it/s]\n"
          ]
        },
        {
          "name": "stdout",
          "output_type": "stream",
          "text": [
            "Finished tokenizing:     20,700 samples\n",
            "\n",
            " Finished 0 batches.\n",
            " Finished 500 batches.\n",
            " Finished 1,000 batches.\n",
            " Finished 1,500 batches.\n",
            " Finished 2,000 batches.\n",
            " Finished 2,500 batches.\n",
            "\n",
            "  Finished processing 2,588 batches.\n",
            "Finished Padding.\n",
            "  Number of tokens with fixed padding: 5300224\n",
            "  Number of tokens with smart padding: 735624\n",
            "  Percentage reduction in tokens is: 86.12%\n"
          ]
        }
      ],
      "source": [
        "# Define the optimizer\n",
        "optimizer = torch.optim.AdamW(model.parameters(), lr = 2e-6, eps = 1e-8)\n",
        "\n",
        "batch_size = 8\n",
        "epochs = 4\n",
        "\n",
        "# Max length for tokenization\n",
        "max_len = 256\n",
        "\n",
        "# Perform tokenization and smart batching on the training data\n",
        "(py_inputs, py_attn_masks, py_labels) = create_smart_padded_batches(X_train_nn, y_train, batch_size, max_len)\n",
        "total_steps = len(py_inputs) * epochs   # training_steps = [number of batches] x [number of epochs].\n",
        "\n",
        "# Create the learning rate scheduler.\n",
        "scheduler = get_linear_schedule_with_warmup(optimizer,\n",
        "                                            num_warmup_steps = 0,\n",
        "                                            num_training_steps = total_steps)"
      ]
    },
    {
      "cell_type": "code",
      "execution_count": 45,
      "metadata": {
        "colab": {
          "base_uri": "https://localhost:8080/"
        },
        "id": "s8BoqysmC-cR",
        "outputId": "5af4dfca-ea68-42a3-a4a4-e02dbfb64aba"
      },
      "outputs": [
        {
          "name": "stderr",
          "output_type": "stream",
          "text": [
            "  0%|          | 0/4 [00:00<?, ?it/s]"
          ]
        },
        {
          "name": "stdout",
          "output_type": "stream",
          "text": [
            "\n",
            "=== Epoch 1 / 4 ===\n",
            "Training on 2588 batches...\n"
          ]
        },
        {
          "name": "stderr",
          "output_type": "stream",
          "text": [
            "100%|██████████| 2588/2588 [05:01<00:00,  8.57it/s]\n"
          ]
        },
        {
          "name": "stdout",
          "output_type": "stream",
          "text": [
            "\n",
            "  Average training loss: 0.82\n",
            "  Training epcoh took: 0:05:02\n",
            "\n",
            "Running Validation...\n",
            "Forming smart batches from 6900 examples. Batch size 8\n",
            "\n"
          ]
        },
        {
          "name": "stderr",
          "output_type": "stream",
          "text": [
            "100%|██████████| 6900/6900 [00:03<00:00, 2182.99it/s]\n"
          ]
        },
        {
          "name": "stdout",
          "output_type": "stream",
          "text": [
            "Finished tokenizing:      6,900 samples\n",
            "\n",
            " Finished 0 batches.\n",
            " Finished 500 batches.\n",
            "\n",
            "  Finished processing 863 batches.\n",
            "Finished Padding.\n",
            "  Number of tokens with fixed padding: 1767424\n",
            "  Number of tokens with smart padding: 250064\n",
            "  Percentage reduction in tokens is: 85.85%\n"
          ]
        },
        {
          "name": "stderr",
          "output_type": "stream",
          "text": [
            " 25%|██▌       | 1/4 [05:22<16:07, 322.64s/it]"
          ]
        },
        {
          "name": "stdout",
          "output_type": "stream",
          "text": [
            "\n",
            "=== Epoch 2 / 4 ===\n",
            "Forming smart batches from 20700 examples. Batch size 8\n",
            "\n"
          ]
        },
        {
          "name": "stderr",
          "output_type": "stream",
          "text": [
            "100%|██████████| 20700/20700 [00:09<00:00, 2169.48it/s]\n"
          ]
        },
        {
          "name": "stdout",
          "output_type": "stream",
          "text": [
            "Finished tokenizing:     20,700 samples\n",
            "\n",
            " Finished 0 batches.\n",
            " Finished 500 batches.\n",
            " Finished 1,000 batches.\n",
            " Finished 1,500 batches.\n",
            " Finished 2,000 batches.\n",
            " Finished 2,500 batches.\n",
            "\n",
            "  Finished processing 2,588 batches.\n",
            "Finished Padding.\n",
            "  Number of tokens with fixed padding: 5300224\n",
            "  Number of tokens with smart padding: 735128\n",
            "  Percentage reduction in tokens is: 86.13%\n",
            "Training on 2588 batches...\n"
          ]
        },
        {
          "name": "stderr",
          "output_type": "stream",
          "text": [
            "100%|██████████| 2588/2588 [05:07<00:00,  8.41it/s]\n"
          ]
        },
        {
          "name": "stdout",
          "output_type": "stream",
          "text": [
            "\n",
            "  Average training loss: 0.68\n",
            "  Training epcoh took: 0:05:08\n",
            "\n",
            "Running Validation...\n",
            "Forming smart batches from 6900 examples. Batch size 8\n",
            "\n"
          ]
        },
        {
          "name": "stderr",
          "output_type": "stream",
          "text": [
            "100%|██████████| 6900/6900 [00:03<00:00, 1898.14it/s]\n"
          ]
        },
        {
          "name": "stdout",
          "output_type": "stream",
          "text": [
            "Finished tokenizing:      6,900 samples\n",
            "\n",
            " Finished 0 batches.\n",
            " Finished 500 batches.\n",
            "\n",
            "  Finished processing 863 batches.\n",
            "Finished Padding.\n",
            "  Number of tokens with fixed padding: 1767424\n",
            "  Number of tokens with smart padding: 247536\n",
            "  Percentage reduction in tokens is: 85.99%\n"
          ]
        },
        {
          "name": "stderr",
          "output_type": "stream",
          "text": [
            " 50%|█████     | 2/4 [11:01<11:04, 332.38s/it]"
          ]
        },
        {
          "name": "stdout",
          "output_type": "stream",
          "text": [
            "\n",
            "=== Epoch 3 / 4 ===\n",
            "Forming smart batches from 20700 examples. Batch size 8\n",
            "\n"
          ]
        },
        {
          "name": "stderr",
          "output_type": "stream",
          "text": [
            "100%|██████████| 20700/20700 [00:11<00:00, 1847.13it/s]\n"
          ]
        },
        {
          "name": "stdout",
          "output_type": "stream",
          "text": [
            "Finished tokenizing:     20,700 samples\n",
            "\n",
            " Finished 0 batches.\n",
            " Finished 500 batches.\n",
            " Finished 1,000 batches.\n",
            " Finished 1,500 batches.\n",
            " Finished 2,000 batches.\n",
            " Finished 2,500 batches.\n",
            "\n",
            "  Finished processing 2,588 batches.\n",
            "Finished Padding.\n",
            "  Number of tokens with fixed padding: 5300224\n",
            "  Number of tokens with smart padding: 736120\n",
            "  Percentage reduction in tokens is: 86.11%\n",
            "Training on 2588 batches...\n"
          ]
        },
        {
          "name": "stderr",
          "output_type": "stream",
          "text": [
            "100%|██████████| 2588/2588 [05:11<00:00,  8.31it/s]\n"
          ]
        },
        {
          "name": "stdout",
          "output_type": "stream",
          "text": [
            "\n",
            "  Average training loss: 0.64\n",
            "  Training epcoh took: 0:05:11\n",
            "\n",
            "Running Validation...\n",
            "Forming smart batches from 6900 examples. Batch size 8\n",
            "\n"
          ]
        },
        {
          "name": "stderr",
          "output_type": "stream",
          "text": [
            "100%|██████████| 6900/6900 [00:03<00:00, 1935.73it/s]\n"
          ]
        },
        {
          "name": "stdout",
          "output_type": "stream",
          "text": [
            "Finished tokenizing:      6,900 samples\n",
            "\n",
            " Finished 0 batches.\n",
            " Finished 500 batches.\n",
            "\n",
            "  Finished processing 863 batches.\n",
            "Finished Padding.\n",
            "  Number of tokens with fixed padding: 1767424\n",
            "  Number of tokens with smart padding: 247488\n",
            "  Percentage reduction in tokens is: 86.00%\n"
          ]
        },
        {
          "name": "stderr",
          "output_type": "stream",
          "text": [
            " 75%|███████▌  | 3/4 [16:46<05:38, 338.04s/it]"
          ]
        },
        {
          "name": "stdout",
          "output_type": "stream",
          "text": [
            "\n",
            "=== Epoch 4 / 4 ===\n",
            "Forming smart batches from 20700 examples. Batch size 8\n",
            "\n"
          ]
        },
        {
          "name": "stderr",
          "output_type": "stream",
          "text": [
            "100%|██████████| 20700/20700 [00:10<00:00, 1960.46it/s]\n"
          ]
        },
        {
          "name": "stdout",
          "output_type": "stream",
          "text": [
            "Finished tokenizing:     20,700 samples\n",
            "\n",
            " Finished 0 batches.\n",
            " Finished 500 batches.\n",
            " Finished 1,000 batches.\n",
            " Finished 1,500 batches.\n",
            " Finished 2,000 batches.\n",
            " Finished 2,500 batches.\n",
            "\n",
            "  Finished processing 2,588 batches.\n",
            "Finished Padding.\n",
            "  Number of tokens with fixed padding: 5300224\n",
            "  Number of tokens with smart padding: 736600\n",
            "  Percentage reduction in tokens is: 86.10%\n",
            "Training on 2588 batches...\n"
          ]
        },
        {
          "name": "stderr",
          "output_type": "stream",
          "text": [
            "100%|██████████| 2588/2588 [05:07<00:00,  8.41it/s]\n"
          ]
        },
        {
          "name": "stdout",
          "output_type": "stream",
          "text": [
            "\n",
            "  Average training loss: 0.63\n",
            "  Training epcoh took: 0:05:08\n",
            "\n",
            "Running Validation...\n",
            "Forming smart batches from 6900 examples. Batch size 8\n",
            "\n"
          ]
        },
        {
          "name": "stderr",
          "output_type": "stream",
          "text": [
            "100%|██████████| 6900/6900 [00:03<00:00, 1812.87it/s]\n"
          ]
        },
        {
          "name": "stdout",
          "output_type": "stream",
          "text": [
            "Finished tokenizing:      6,900 samples\n",
            "\n",
            " Finished 0 batches.\n",
            " Finished 500 batches.\n",
            "\n",
            "  Finished processing 863 batches.\n",
            "Finished Padding.\n",
            "  Number of tokens with fixed padding: 1767424\n",
            "  Number of tokens with smart padding: 248156\n",
            "  Percentage reduction in tokens is: 85.96%\n"
          ]
        },
        {
          "name": "stderr",
          "output_type": "stream",
          "text": [
            "100%|██████████| 4/4 [22:27<00:00, 336.81s/it]"
          ]
        },
        {
          "name": "stdout",
          "output_type": "stream",
          "text": [
            "\n",
            "Training complete!\n",
            "Total training took 0:22:27 (h:mm:ss)\n"
          ]
        },
        {
          "name": "stderr",
          "output_type": "stream",
          "text": [
            "\n"
          ]
        }
      ],
      "source": [
        "from functools import partial\n",
        "from tqdm import tqdm\n",
        "tqdm = partial(tqdm, position=0, leave=True)\n",
        "\n",
        "# Set the seed value all over the place to make this reproducible.\n",
        "seed_val = 87\n",
        "random.seed(seed_val)\n",
        "np.random.seed(seed_val)\n",
        "torch.manual_seed(seed_val)\n",
        "torch.cuda.manual_seed_all(seed_val)\n",
        "\n",
        "training_stats = []\n",
        "\n",
        "# Measure the total training time for the whole run.\n",
        "total_t0 = time.time()\n",
        "\n",
        "# For each epoch...\n",
        "for epoch_i in tqdm(range(0, epochs)):\n",
        "    # ========================================\n",
        "    #               Training\n",
        "    # ========================================\n",
        "    print('\\n=== Epoch {:} / {:} ==='.format(epoch_i + 1, epochs))\n",
        "\n",
        "    # Randomnize the training set, i.e smart batch again\n",
        "    if epoch_i > 0:\n",
        "        (py_inputs, py_attn_masks, py_labels) = create_smart_padded_batches(X_train_nn, y_train, batch_size, max_len)\n",
        "    print('Training on {:} batches...'.format(len(py_inputs)))\n",
        "\n",
        "    start_time = time.time()\n",
        "\n",
        "    # Reset the total loss for this epoch.\n",
        "    total_train_loss = 0\n",
        "\n",
        "    # Put the model into training mode\n",
        "    model.train()\n",
        "\n",
        "    # For each batch of training data...\n",
        "    for step in tqdm(range(0, len(py_inputs))):\n",
        "        # Copy the current training batch to the GPU.\n",
        "        batch_input_ids = py_inputs[step].to(device)\n",
        "        batch_input_mask = py_attn_masks[step].to(device)\n",
        "        batch_labels = py_labels[step].to(device)\n",
        "\n",
        "        # Clear gradients\n",
        "        model.zero_grad()\n",
        "        # Forward pass\n",
        "        result = model(\n",
        "            batch_input_ids,\n",
        "            token_type_ids=None,\n",
        "            attention_mask=batch_input_mask,\n",
        "            labels=batch_labels)\n",
        "\n",
        "        # Compute training loss and accumulate\n",
        "        loss = result.loss\n",
        "        total_train_loss += loss.item()\n",
        "        # Backward pass\n",
        "        loss.backward()\n",
        "\n",
        "        # To prevent exploding gradinets problem, clip the norm of the gradients to 1.0.\n",
        "        torch.nn.utils.clip_grad_norm_(model.parameters(), 1.0)\n",
        "\n",
        "        # Update the parameters and the learning rate.\n",
        "        optimizer.step()\n",
        "        scheduler.step()\n",
        "    # Calculate the average training loss over all of the batches.\n",
        "    avg_train_loss = total_train_loss / len(py_inputs)\n",
        "\n",
        "    # Measure how long this epoch took.\n",
        "    training_time = format_time(time.time() - start_time)\n",
        "\n",
        "    print(\"\")\n",
        "    print(\"  Average training loss: {0:.2f}\".format(avg_train_loss))\n",
        "    print(\"  Training epcoh took: {:}\".format(training_time))\n",
        "\n",
        "    # ========================================\n",
        "    #               Validation\n",
        "    # ========================================\n",
        "    print(\"\\nRunning Validation...\")\n",
        "    (py_val_inputs, py_val_attn_masks, py_val_labels) = create_smart_padded_batches(X_val_nn, y_val, batch_size, max_len)\n",
        "\n",
        "    # Tracking variables\n",
        "    predictions , true_labels = [], []\n",
        "\n",
        "    # model.eval()\n",
        "    total_val_loss = 0\n",
        "    # For each batch of validation\n",
        "    for step in range(0, len(py_val_inputs)):\n",
        "        # Copy the batch to the GPU.\n",
        "        batch_input_ids_val = py_val_inputs[step].to(device)\n",
        "        batch_input_mask_val = py_val_attn_masks[step].to(device)\n",
        "        batch_labels_val = py_val_labels[step].to(device)\n",
        "\n",
        "        with torch.no_grad():\n",
        "            # Forward pass, calculate logit predictions\n",
        "            outputs = model(batch_input_ids_val, token_type_ids=None,\n",
        "                            attention_mask=batch_input_mask_val, labels=batch_labels_val)\n",
        "        total_val_loss += outputs.loss\n",
        "        logits = outputs.logits\n",
        "        # compute validation loss\n",
        "\n",
        "        # Move logits and labels to CPU\n",
        "        logits = logits.detach().cpu().numpy()\n",
        "        label_ids = batch_labels_val.to('cpu').numpy()\n",
        "\n",
        "        # Store predictions and true labels\n",
        "        predictions.append(logits)\n",
        "        true_labels.append(label_ids)\n",
        "\n",
        "    # Combine the results across the batches.\n",
        "    predictions = np.concatenate(predictions, axis=0)\n",
        "    true_labels = np.concatenate(true_labels, axis=0)\n",
        "\n",
        "    # Choose the label with the highest score as our prediction.\n",
        "    preds = np.argmax(predictions, axis=1).flatten()\n",
        "\n",
        "    f1 = f1_score(true_labels, preds, average='macro')\n",
        "    # Calculate the average val loss over all of the batches.\n",
        "    avg_val_loss = total_val_loss / len(py_val_inputs)\n",
        "\n",
        "    # Record all statistics from this epoch.\n",
        "    training_stats.append(\n",
        "        {\n",
        "            'epoch': epoch_i + 1,\n",
        "            'Training Loss': avg_train_loss,\n",
        "            'Training Time': training_time,\n",
        "            'validation loss': avg_val_loss,\n",
        "            'validation F1 score': f1\n",
        "        }\n",
        "    )\n",
        "\n",
        "print(\"\")\n",
        "print(\"Training complete!\")\n",
        "\n",
        "print(\"Total training took {:} (h:mm:ss)\".format(format_time(time.time()-total_t0)))"
      ]
    },
    {
      "cell_type": "code",
      "execution_count": 46,
      "metadata": {
        "colab": {
          "base_uri": "https://localhost:8080/"
        },
        "id": "aK_-AfHLIRjB",
        "outputId": "9fc08ecd-68e0-475b-b6fa-ddb88efca4c8"
      },
      "outputs": [
        {
          "data": {
            "text/plain": [
              "[{'epoch': 1,\n",
              "  'Training Loss': 0.8171782934522887,\n",
              "  'Training Time': '0:05:02',\n",
              "  'validation loss': tensor(0.7340, device='cuda:0'),\n",
              "  'validation F1 score': 0.6780297446035916},\n",
              " {'epoch': 2,\n",
              "  'Training Loss': 0.6830918176741652,\n",
              "  'Training Time': '0:05:08',\n",
              "  'validation loss': tensor(0.7037, device='cuda:0'),\n",
              "  'validation F1 score': 0.6930339363610306},\n",
              " {'epoch': 3,\n",
              "  'Training Loss': 0.6438738309232722,\n",
              "  'Training Time': '0:05:11',\n",
              "  'validation loss': tensor(0.6955, device='cuda:0'),\n",
              "  'validation F1 score': 0.6957078817369213},\n",
              " {'epoch': 4,\n",
              "  'Training Loss': 0.625170377473213,\n",
              "  'Training Time': '0:05:08',\n",
              "  'validation loss': tensor(0.6922, device='cuda:0'),\n",
              "  'validation F1 score': 0.6994341574811945}]"
            ]
          },
          "execution_count": 46,
          "metadata": {},
          "output_type": "execute_result"
        }
      ],
      "source": [
        "training_stats"
      ]
    },
    {
      "cell_type": "markdown",
      "metadata": {},
      "source": [
        "By checking the validation loss, we stop the training here to avoid overfitting."
      ]
    },
    {
      "cell_type": "code",
      "execution_count": 47,
      "metadata": {
        "colab": {
          "base_uri": "https://localhost:8080/"
        },
        "id": "JFi-vCkEC-cR",
        "outputId": "e7c4b7f5-3533-40fa-9946-527a442a4377"
      },
      "outputs": [
        {
          "name": "stdout",
          "output_type": "stream",
          "text": [
            "Forming smart batches from 6900 examples. Batch size 8\n",
            "\n"
          ]
        },
        {
          "name": "stderr",
          "output_type": "stream",
          "text": [
            "100%|██████████| 6900/6900 [00:03<00:00, 2055.61it/s]\n"
          ]
        },
        {
          "name": "stdout",
          "output_type": "stream",
          "text": [
            "Finished tokenizing:      6,900 samples\n",
            "\n",
            " Finished 0 batches.\n",
            " Finished 500 batches.\n",
            "\n",
            "  Finished processing 863 batches.\n",
            "Finished Padding.\n",
            "  Number of tokens with fixed padding: 1767424\n",
            "  Number of tokens with smart padding: 240088\n",
            "  Percentage reduction in tokens is: 86.42%\n"
          ]
        }
      ],
      "source": [
        "# Evaluate on the test split\n",
        "(py_test_inputs, py_test_attn_masks, py_test_labels) = create_smart_padded_batches(X_test_nn, y_test, batch_size)"
      ]
    },
    {
      "cell_type": "code",
      "execution_count": 48,
      "metadata": {
        "colab": {
          "base_uri": "https://localhost:8080/"
        },
        "id": "L_rHU1MFC-cS",
        "outputId": "cbac6109-420d-4a31-ae61-41c404db1201"
      },
      "outputs": [
        {
          "name": "stdout",
          "output_type": "stream",
          "text": [
            "Predicting labels for 863 test batches ...\n",
            "    DONE.\n",
            "Accuracy: 0.716\n",
            "F1 score: 0.715\n"
          ]
        }
      ],
      "source": [
        "# Prediction on test set with the best model\n",
        "print('Predicting labels for {:,} test batches ...'.format(len(py_test_labels)))\n",
        "model.eval()\n",
        "predictions , true_labels = [], []\n",
        "\n",
        "# For each batch of test\n",
        "for step in range(0, len(py_test_inputs)):\n",
        "    # Copy the batch to the GPU.\n",
        "    b_input_ids = py_test_inputs[step].to(device)\n",
        "    b_input_mask = py_test_attn_masks[step].to(device)\n",
        "    b_labels = py_test_labels[step].to(device)\n",
        "\n",
        "    # Telling the model not to compute or store gradients, saving memory and\n",
        "    # speeding up prediction\n",
        "    with torch.no_grad():\n",
        "        # Forward pass, calculate logit predictions\n",
        "        outputs = model(b_input_ids, token_type_ids=None,\n",
        "                        attention_mask=b_input_mask)\n",
        "\n",
        "    logits = outputs[0]\n",
        "\n",
        "    # Move logits and labels to CPU\n",
        "    logits = logits.detach().cpu().numpy()\n",
        "    label_ids = b_labels.to('cpu').numpy()\n",
        "\n",
        "    # Store predictions and true labels\n",
        "    predictions.append(logits)\n",
        "    true_labels.append(label_ids)\n",
        "\n",
        "print('    DONE.')\n",
        "\n",
        "# Combine the results across the batches.\n",
        "predictions = np.concatenate(predictions, axis=0)\n",
        "true_labels = np.concatenate(true_labels, axis=0)\n",
        "\n",
        "# Choose the label with the highest score as our prediction.\n",
        "preds = np.argmax(predictions, axis=1).flatten()\n",
        "\n",
        "# Calculate simple flat accuracy -- number correct over total number.\n",
        "accuracy = (preds == true_labels).mean()\n",
        "\n",
        "print('Accuracy: {:.3f}'.format(accuracy))\n",
        "from sklearn.metrics import f1_score\n",
        "f1 = f1_score(true_labels, preds, average='macro')\n",
        "print('F1 score: {:.3f}'.format(f1))"
      ]
    },
    {
      "cell_type": "markdown",
      "metadata": {},
      "source": [
        "#### Saving the best model"
      ]
    },
    {
      "cell_type": "code",
      "execution_count": 49,
      "metadata": {
        "colab": {
          "base_uri": "https://localhost:8080/"
        },
        "id": "OzVwA3fVBfh9",
        "outputId": "89cf01df-7170-48ff-edf1-3211fb492d76"
      },
      "outputs": [
        {
          "data": {
            "text/plain": [
              "('bert_tokenizer\\\\tokenizer_config.json',\n",
              " 'bert_tokenizer\\\\special_tokens_map.json',\n",
              " 'bert_tokenizer\\\\vocab.txt',\n",
              " 'bert_tokenizer\\\\added_tokens.json')"
            ]
          },
          "execution_count": 49,
          "metadata": {},
          "output_type": "execute_result"
        }
      ],
      "source": [
        "# Save the model and tokenizer - This is the best model\n",
        "model.save_pretrained(\"bert_model\")\n",
        "tokenizer.save_pretrained(\"bert_tokenizer\")"
      ]
    },
    {
      "cell_type": "markdown",
      "metadata": {},
      "source": [
        "### Final prediction\n",
        "Predicting on the outputs of the different chatbot LLMs\n",
        "Treating BERT predictions as ground truth labels and the tones predicted by the chatbot LLMs as the predicted labels."
      ]
    },
    {
      "cell_type": "code",
      "execution_count": 62,
      "metadata": {
        "id": "C-Vc9VS0GWrK"
      },
      "outputs": [],
      "source": [
        "torch.cuda.empty_cache()\n",
        "\n",
        "# Load the model and tokenizer from the saved directory\n",
        "model_name = \"bert-base-uncased\"\n",
        "model = AutoModelForSequenceClassification.from_pretrained(\"bert_model/\")\n",
        "device = torch.device('cuda:0' if torch.cuda.is_available() else 'cpu')\n",
        "model.to(device)  # Move the model to the same device as input tensors\n",
        "\n",
        "# set model to evaluate mode\n",
        "model.eval()\n",
        "\n",
        "# Load the tokenizer from the saved directory\n",
        "tokenizer = BertTokenizer.from_pretrained(\"bert_tokenizer/\")"
      ]
    },
    {
      "cell_type": "code",
      "execution_count": 71,
      "metadata": {
        "colab": {
          "base_uri": "https://localhost:8080/"
        },
        "id": "PYYIbOGVSESY",
        "outputId": "e81eec81-ad4e-46e2-a825-6c2c9a70c547"
      },
      "outputs": [
        {
          "name": "stdout",
          "output_type": "stream",
          "text": [
            "Predicting for chatbot: gpt\n",
            "Finished tokenizing:          3 samples\n",
            "\n"
          ]
        },
        {
          "name": "stderr",
          "output_type": "stream",
          "text": [
            "100%|██████████| 2/2 [00:00<00:00,  5.15it/s]\n"
          ]
        },
        {
          "name": "stdout",
          "output_type": "stream",
          "text": [
            "Predicting for chatbot: gptlc\n",
            "Finished tokenizing:          3 samples\n",
            "\n"
          ]
        },
        {
          "name": "stderr",
          "output_type": "stream",
          "text": [
            "100%|██████████| 2/2 [00:00<00:00, 49.99it/s]\n"
          ]
        },
        {
          "name": "stdout",
          "output_type": "stream",
          "text": [
            "Predicting for chatbot: alpaca\n",
            "Finished tokenizing:          3 samples\n",
            "\n"
          ]
        },
        {
          "name": "stderr",
          "output_type": "stream",
          "text": [
            "100%|██████████| 2/2 [00:00<00:00, 49.94it/s]\n"
          ]
        },
        {
          "name": "stdout",
          "output_type": "stream",
          "text": [
            "Predicting for chatbot: hc1\n",
            "Finished tokenizing:          3 samples\n",
            "\n"
          ]
        },
        {
          "name": "stderr",
          "output_type": "stream",
          "text": [
            "100%|██████████| 2/2 [00:00<00:00, 35.70it/s]\n"
          ]
        },
        {
          "name": "stdout",
          "output_type": "stream",
          "text": [
            "Predicting for chatbot: bard\n",
            "Finished tokenizing:          3 samples\n",
            "\n"
          ]
        },
        {
          "name": "stderr",
          "output_type": "stream",
          "text": [
            "100%|██████████| 2/2 [00:00<00:00, 39.58it/s]\n"
          ]
        }
      ],
      "source": [
        "max_len = 256 # put that we chose during training\n",
        "\n",
        "# test file generated from the models\n",
        "test_data_files = [\"tone_analysis_data_gpt.csv\",\n",
        "\"tone_analysis_data_gptlc.csv\",\n",
        "\"tone_analysis_data_alpaca.csv\",\n",
        "\"tone_analysis_data_hc1.csv\",\n",
        "\"tone_analysis_data_bard.csv\"]\n",
        "\n",
        "results_dict = {}\n",
        "\n",
        "for test_file in test_data_files:\n",
        "    chatbot_name = test_file.split('_')[3].split('.')[0]\n",
        "    print('Predicting for chatbot: {}'.format(chatbot_name))\n",
        "\n",
        "    df_test = pd.read_csv(test_file, encoding=\"cp1252\")\n",
        "\n",
        "    # tokenize the reviews\n",
        "    test_encodings = tokenizer(list(df_test['text']), truncation=True, padding=True, max_length=max_len, return_tensors='pt', add_special_tokens=True)\n",
        "    print('Finished tokenizing: {:>10,} samples\\n'.format(len(test_encodings)))\n",
        "\n",
        "    # create dataset loaders for ease of use\n",
        "    test_dataset = TensorDataset(test_encodings.input_ids, test_encodings.attention_mask)\n",
        "    test_loader = DataLoader(test_dataset, batch_size=16)\n",
        "\n",
        "    predictions = []\n",
        "    with torch.no_grad():\n",
        "        for batch in tqdm(test_loader):\n",
        "            # get a batch\n",
        "            input_ids, attention_mask = batch\n",
        "            input_ids, attention_mask = input_ids.to(device), attention_mask.to(device)\n",
        "            # predict\n",
        "            outputs = model(input_ids, attention_mask=attention_mask, token_type_ids=None)\n",
        "            logits = outputs.logits\n",
        "            # store logits\n",
        "            predictions.append(logits.cpu())\n",
        "    \n",
        "    # concatenate results from all batches\n",
        "    predictions = np.concatenate(predictions, axis=0)\n",
        "    # ground truth labels are argmax of logits as predicted by BERT\n",
        "    bert_labels = np.argmax(predictions, axis=1).flatten()\n",
        "\n",
        "    # create a dataframe with the predictions and the ground truth labels\n",
        "    results = pd.DataFrame()\n",
        "    results['model_labels'] = df_test['label'] \n",
        "    results['bert_labels'] = bert_labels\n",
        "\n",
        "    results_dict[chatbot_name] = results"
      ]
    },
    {
      "cell_type": "code",
      "execution_count": 72,
      "metadata": {
        "id": "u4q5Kv1nlY1D"
      },
      "outputs": [
        {
          "name": "stdout",
          "output_type": "stream",
          "text": [
            "gpt\n",
            "----------------\n",
            "confusion_matrix:\n",
            " [[0 0 0]\n",
            " [5 3 1]\n",
            " [1 3 5]]\n",
            "accuracy:  0.4444444444444444\n",
            "f1 score:  0.3555555555555556\n",
            "\n",
            "\n",
            "gptlc\n",
            "----------------\n",
            "confusion_matrix:\n",
            " [[2 2 0]\n",
            " [4 3 1]\n",
            " [0 1 5]]\n",
            "accuracy:  0.5555555555555556\n",
            "f1 score:  0.5539682539682539\n",
            "\n",
            "\n",
            "alpaca\n",
            "----------------\n",
            "confusion_matrix:\n",
            " [[1 0 0]\n",
            " [4 4 3]\n",
            " [1 2 3]]\n",
            "accuracy:  0.4444444444444444\n",
            "f1 score:  0.41876750700280113\n",
            "\n",
            "\n",
            "hc1\n",
            "----------------\n",
            "confusion_matrix:\n",
            " [[2 0 0]\n",
            " [4 5 2]\n",
            " [0 1 4]]\n",
            "accuracy:  0.6111111111111112\n",
            "f1 score:  0.605169340463458\n",
            "\n",
            "\n",
            "bard\n",
            "----------------\n",
            "confusion_matrix:\n",
            " [[3 1 0]\n",
            " [2 5 3]\n",
            " [1 0 3]]\n",
            "accuracy:  0.6111111111111112\n",
            "f1 score:  0.6083333333333334\n",
            "\n",
            "\n"
          ]
        }
      ],
      "source": [
        "# confusion matrix\n",
        "from sklearn.metrics import confusion_matrix, accuracy_score, f1_score\n",
        "\n",
        "for chatbot_name, results in results_dict.items():\n",
        "    print(chatbot_name)\n",
        "    print('----------------')\n",
        "    cmat = confusion_matrix(results['bert_labels'], results['model_labels'])\n",
        "    print(\"confusion_matrix:\\n\", cmat)\n",
        "    print(\"accuracy: \", accuracy_score(results['bert_labels'], results['model_labels']))\n",
        "    print(\"f1 score: \", f1_score(results['bert_labels'], results['model_labels'], average='macro'))\n",
        "    print('\\n')"
      ]
    }
  ],
  "metadata": {
    "accelerator": "GPU",
    "colab": {
      "gpuType": "T4",
      "machine_shape": "hm",
      "provenance": []
    },
    "kernelspec": {
      "display_name": "Python 3",
      "name": "python3"
    },
    "language_info": {
      "codemirror_mode": {
        "name": "ipython",
        "version": 3
      },
      "file_extension": ".py",
      "mimetype": "text/x-python",
      "name": "python",
      "nbconvert_exporter": "python",
      "pygments_lexer": "ipython3",
      "version": "3.11.4"
    },
    "orig_nbformat": 4,
    "widgets": {
      "application/vnd.jupyter.widget-state+json": {
        "01d433b5612f4925869fcacb1aafed11": {
          "model_module": "@jupyter-widgets/base",
          "model_module_version": "1.2.0",
          "model_name": "LayoutModel",
          "state": {
            "_model_module": "@jupyter-widgets/base",
            "_model_module_version": "1.2.0",
            "_model_name": "LayoutModel",
            "_view_count": null,
            "_view_module": "@jupyter-widgets/base",
            "_view_module_version": "1.2.0",
            "_view_name": "LayoutView",
            "align_content": null,
            "align_items": null,
            "align_self": null,
            "border": null,
            "bottom": null,
            "display": null,
            "flex": null,
            "flex_flow": null,
            "grid_area": null,
            "grid_auto_columns": null,
            "grid_auto_flow": null,
            "grid_auto_rows": null,
            "grid_column": null,
            "grid_gap": null,
            "grid_row": null,
            "grid_template_areas": null,
            "grid_template_columns": null,
            "grid_template_rows": null,
            "height": null,
            "justify_content": null,
            "justify_items": null,
            "left": null,
            "margin": null,
            "max_height": null,
            "max_width": null,
            "min_height": null,
            "min_width": null,
            "object_fit": null,
            "object_position": null,
            "order": null,
            "overflow": null,
            "overflow_x": null,
            "overflow_y": null,
            "padding": null,
            "right": null,
            "top": null,
            "visibility": null,
            "width": null
          }
        },
        "15a4f7ab5cd24a47af482904fe4c1b17": {
          "model_module": "@jupyter-widgets/controls",
          "model_module_version": "1.5.0",
          "model_name": "DescriptionStyleModel",
          "state": {
            "_model_module": "@jupyter-widgets/controls",
            "_model_module_version": "1.5.0",
            "_model_name": "DescriptionStyleModel",
            "_view_count": null,
            "_view_module": "@jupyter-widgets/base",
            "_view_module_version": "1.2.0",
            "_view_name": "StyleView",
            "description_width": ""
          }
        },
        "195a3375b2204004b548cdd91316e5f6": {
          "model_module": "@jupyter-widgets/base",
          "model_module_version": "1.2.0",
          "model_name": "LayoutModel",
          "state": {
            "_model_module": "@jupyter-widgets/base",
            "_model_module_version": "1.2.0",
            "_model_name": "LayoutModel",
            "_view_count": null,
            "_view_module": "@jupyter-widgets/base",
            "_view_module_version": "1.2.0",
            "_view_name": "LayoutView",
            "align_content": null,
            "align_items": null,
            "align_self": null,
            "border": null,
            "bottom": null,
            "display": null,
            "flex": null,
            "flex_flow": null,
            "grid_area": null,
            "grid_auto_columns": null,
            "grid_auto_flow": null,
            "grid_auto_rows": null,
            "grid_column": null,
            "grid_gap": null,
            "grid_row": null,
            "grid_template_areas": null,
            "grid_template_columns": null,
            "grid_template_rows": null,
            "height": null,
            "justify_content": null,
            "justify_items": null,
            "left": null,
            "margin": null,
            "max_height": null,
            "max_width": null,
            "min_height": null,
            "min_width": null,
            "object_fit": null,
            "object_position": null,
            "order": null,
            "overflow": null,
            "overflow_x": null,
            "overflow_y": null,
            "padding": null,
            "right": null,
            "top": null,
            "visibility": null,
            "width": null
          }
        },
        "1cc5c4ee950846c6ba1d25d87301499c": {
          "model_module": "@jupyter-widgets/base",
          "model_module_version": "1.2.0",
          "model_name": "LayoutModel",
          "state": {
            "_model_module": "@jupyter-widgets/base",
            "_model_module_version": "1.2.0",
            "_model_name": "LayoutModel",
            "_view_count": null,
            "_view_module": "@jupyter-widgets/base",
            "_view_module_version": "1.2.0",
            "_view_name": "LayoutView",
            "align_content": null,
            "align_items": null,
            "align_self": null,
            "border": null,
            "bottom": null,
            "display": null,
            "flex": null,
            "flex_flow": null,
            "grid_area": null,
            "grid_auto_columns": null,
            "grid_auto_flow": null,
            "grid_auto_rows": null,
            "grid_column": null,
            "grid_gap": null,
            "grid_row": null,
            "grid_template_areas": null,
            "grid_template_columns": null,
            "grid_template_rows": null,
            "height": null,
            "justify_content": null,
            "justify_items": null,
            "left": null,
            "margin": null,
            "max_height": null,
            "max_width": null,
            "min_height": null,
            "min_width": null,
            "object_fit": null,
            "object_position": null,
            "order": null,
            "overflow": null,
            "overflow_x": null,
            "overflow_y": null,
            "padding": null,
            "right": null,
            "top": null,
            "visibility": null,
            "width": null
          }
        },
        "1f9924c7bbb543ca8a7d167e3990f55b": {
          "model_module": "@jupyter-widgets/controls",
          "model_module_version": "1.5.0",
          "model_name": "HTMLModel",
          "state": {
            "_dom_classes": [],
            "_model_module": "@jupyter-widgets/controls",
            "_model_module_version": "1.5.0",
            "_model_name": "HTMLModel",
            "_view_count": null,
            "_view_module": "@jupyter-widgets/controls",
            "_view_module_version": "1.5.0",
            "_view_name": "HTMLView",
            "description": "",
            "description_tooltip": null,
            "layout": "IPY_MODEL_c93408368361445080cdad6dddf1a3bb",
            "placeholder": "​",
            "style": "IPY_MODEL_5e2b04fbffa946278af5d44d6c8b398d",
            "value": " 28.0/28.0 [00:00&lt;00:00, 440B/s]"
          }
        },
        "2065b6339d8746b0a335396d3a16dd11": {
          "model_module": "@jupyter-widgets/controls",
          "model_module_version": "1.5.0",
          "model_name": "FloatProgressModel",
          "state": {
            "_dom_classes": [],
            "_model_module": "@jupyter-widgets/controls",
            "_model_module_version": "1.5.0",
            "_model_name": "FloatProgressModel",
            "_view_count": null,
            "_view_module": "@jupyter-widgets/controls",
            "_view_module_version": "1.5.0",
            "_view_name": "ProgressView",
            "bar_style": "success",
            "description": "",
            "description_tooltip": null,
            "layout": "IPY_MODEL_d475e4affb484953a77d12afb0b85eab",
            "max": 28,
            "min": 0,
            "orientation": "horizontal",
            "style": "IPY_MODEL_dd80c68536ed4d51b118d667e8be7537",
            "value": 28
          }
        },
        "213b68cdeb634b849938579906b64871": {
          "model_module": "@jupyter-widgets/controls",
          "model_module_version": "1.5.0",
          "model_name": "HTMLModel",
          "state": {
            "_dom_classes": [],
            "_model_module": "@jupyter-widgets/controls",
            "_model_module_version": "1.5.0",
            "_model_name": "HTMLModel",
            "_view_count": null,
            "_view_module": "@jupyter-widgets/controls",
            "_view_module_version": "1.5.0",
            "_view_name": "HTMLView",
            "description": "",
            "description_tooltip": null,
            "layout": "IPY_MODEL_bb727e9810114f459a70b319f76bebc6",
            "placeholder": "​",
            "style": "IPY_MODEL_76c7986cbaf04f0198a99ec307a0c27e",
            "value": "Downloading (…)lve/main/config.json: 100%"
          }
        },
        "219eff0d81a3479187a4674b58d77461": {
          "model_module": "@jupyter-widgets/controls",
          "model_module_version": "1.5.0",
          "model_name": "FloatProgressModel",
          "state": {
            "_dom_classes": [],
            "_model_module": "@jupyter-widgets/controls",
            "_model_module_version": "1.5.0",
            "_model_name": "FloatProgressModel",
            "_view_count": null,
            "_view_module": "@jupyter-widgets/controls",
            "_view_module_version": "1.5.0",
            "_view_name": "ProgressView",
            "bar_style": "success",
            "description": "",
            "description_tooltip": null,
            "layout": "IPY_MODEL_d525b9bcdb4546b699981ca411c03054",
            "max": 440449768,
            "min": 0,
            "orientation": "horizontal",
            "style": "IPY_MODEL_25a87c2c0dea4cfc839252e976d1da24",
            "value": 440449768
          }
        },
        "25a87c2c0dea4cfc839252e976d1da24": {
          "model_module": "@jupyter-widgets/controls",
          "model_module_version": "1.5.0",
          "model_name": "ProgressStyleModel",
          "state": {
            "_model_module": "@jupyter-widgets/controls",
            "_model_module_version": "1.5.0",
            "_model_name": "ProgressStyleModel",
            "_view_count": null,
            "_view_module": "@jupyter-widgets/base",
            "_view_module_version": "1.2.0",
            "_view_name": "StyleView",
            "bar_color": null,
            "description_width": ""
          }
        },
        "2d8b2e11406c4df58e7ba2992dacd20d": {
          "model_module": "@jupyter-widgets/base",
          "model_module_version": "1.2.0",
          "model_name": "LayoutModel",
          "state": {
            "_model_module": "@jupyter-widgets/base",
            "_model_module_version": "1.2.0",
            "_model_name": "LayoutModel",
            "_view_count": null,
            "_view_module": "@jupyter-widgets/base",
            "_view_module_version": "1.2.0",
            "_view_name": "LayoutView",
            "align_content": null,
            "align_items": null,
            "align_self": null,
            "border": null,
            "bottom": null,
            "display": null,
            "flex": null,
            "flex_flow": null,
            "grid_area": null,
            "grid_auto_columns": null,
            "grid_auto_flow": null,
            "grid_auto_rows": null,
            "grid_column": null,
            "grid_gap": null,
            "grid_row": null,
            "grid_template_areas": null,
            "grid_template_columns": null,
            "grid_template_rows": null,
            "height": null,
            "justify_content": null,
            "justify_items": null,
            "left": null,
            "margin": null,
            "max_height": null,
            "max_width": null,
            "min_height": null,
            "min_width": null,
            "object_fit": null,
            "object_position": null,
            "order": null,
            "overflow": null,
            "overflow_x": null,
            "overflow_y": null,
            "padding": null,
            "right": null,
            "top": null,
            "visibility": null,
            "width": null
          }
        },
        "36e818783c3643df885912802367e7c1": {
          "model_module": "@jupyter-widgets/controls",
          "model_module_version": "1.5.0",
          "model_name": "DescriptionStyleModel",
          "state": {
            "_model_module": "@jupyter-widgets/controls",
            "_model_module_version": "1.5.0",
            "_model_name": "DescriptionStyleModel",
            "_view_count": null,
            "_view_module": "@jupyter-widgets/base",
            "_view_module_version": "1.2.0",
            "_view_name": "StyleView",
            "description_width": ""
          }
        },
        "49d6048613e54a399c342da92c557974": {
          "model_module": "@jupyter-widgets/base",
          "model_module_version": "1.2.0",
          "model_name": "LayoutModel",
          "state": {
            "_model_module": "@jupyter-widgets/base",
            "_model_module_version": "1.2.0",
            "_model_name": "LayoutModel",
            "_view_count": null,
            "_view_module": "@jupyter-widgets/base",
            "_view_module_version": "1.2.0",
            "_view_name": "LayoutView",
            "align_content": null,
            "align_items": null,
            "align_self": null,
            "border": null,
            "bottom": null,
            "display": null,
            "flex": null,
            "flex_flow": null,
            "grid_area": null,
            "grid_auto_columns": null,
            "grid_auto_flow": null,
            "grid_auto_rows": null,
            "grid_column": null,
            "grid_gap": null,
            "grid_row": null,
            "grid_template_areas": null,
            "grid_template_columns": null,
            "grid_template_rows": null,
            "height": null,
            "justify_content": null,
            "justify_items": null,
            "left": null,
            "margin": null,
            "max_height": null,
            "max_width": null,
            "min_height": null,
            "min_width": null,
            "object_fit": null,
            "object_position": null,
            "order": null,
            "overflow": null,
            "overflow_x": null,
            "overflow_y": null,
            "padding": null,
            "right": null,
            "top": null,
            "visibility": null,
            "width": null
          }
        },
        "54ffa10b88be4819acca71fa934b1678": {
          "model_module": "@jupyter-widgets/controls",
          "model_module_version": "1.5.0",
          "model_name": "DescriptionStyleModel",
          "state": {
            "_model_module": "@jupyter-widgets/controls",
            "_model_module_version": "1.5.0",
            "_model_name": "DescriptionStyleModel",
            "_view_count": null,
            "_view_module": "@jupyter-widgets/base",
            "_view_module_version": "1.2.0",
            "_view_name": "StyleView",
            "description_width": ""
          }
        },
        "57e8db1f36814abb9a81be3b8e73469f": {
          "model_module": "@jupyter-widgets/controls",
          "model_module_version": "1.5.0",
          "model_name": "FloatProgressModel",
          "state": {
            "_dom_classes": [],
            "_model_module": "@jupyter-widgets/controls",
            "_model_module_version": "1.5.0",
            "_model_name": "FloatProgressModel",
            "_view_count": null,
            "_view_module": "@jupyter-widgets/controls",
            "_view_module_version": "1.5.0",
            "_view_name": "ProgressView",
            "bar_style": "success",
            "description": "",
            "description_tooltip": null,
            "layout": "IPY_MODEL_195a3375b2204004b548cdd91316e5f6",
            "max": 570,
            "min": 0,
            "orientation": "horizontal",
            "style": "IPY_MODEL_67d91181b11c4dcc9a1c4e10946bef6d",
            "value": 570
          }
        },
        "5acf2d10cb4340389667526bd91959cb": {
          "model_module": "@jupyter-widgets/controls",
          "model_module_version": "1.5.0",
          "model_name": "HBoxModel",
          "state": {
            "_dom_classes": [],
            "_model_module": "@jupyter-widgets/controls",
            "_model_module_version": "1.5.0",
            "_model_name": "HBoxModel",
            "_view_count": null,
            "_view_module": "@jupyter-widgets/controls",
            "_view_module_version": "1.5.0",
            "_view_name": "HBoxView",
            "box_style": "",
            "children": [
              "IPY_MODEL_213b68cdeb634b849938579906b64871",
              "IPY_MODEL_57e8db1f36814abb9a81be3b8e73469f",
              "IPY_MODEL_a3b71073eabb4c48831b574cb763f15a"
            ],
            "layout": "IPY_MODEL_2d8b2e11406c4df58e7ba2992dacd20d"
          }
        },
        "5e2b04fbffa946278af5d44d6c8b398d": {
          "model_module": "@jupyter-widgets/controls",
          "model_module_version": "1.5.0",
          "model_name": "DescriptionStyleModel",
          "state": {
            "_model_module": "@jupyter-widgets/controls",
            "_model_module_version": "1.5.0",
            "_model_name": "DescriptionStyleModel",
            "_view_count": null,
            "_view_module": "@jupyter-widgets/base",
            "_view_module_version": "1.2.0",
            "_view_name": "StyleView",
            "description_width": ""
          }
        },
        "613c38b31e1343b3a9aa55893309beaa": {
          "model_module": "@jupyter-widgets/base",
          "model_module_version": "1.2.0",
          "model_name": "LayoutModel",
          "state": {
            "_model_module": "@jupyter-widgets/base",
            "_model_module_version": "1.2.0",
            "_model_name": "LayoutModel",
            "_view_count": null,
            "_view_module": "@jupyter-widgets/base",
            "_view_module_version": "1.2.0",
            "_view_name": "LayoutView",
            "align_content": null,
            "align_items": null,
            "align_self": null,
            "border": null,
            "bottom": null,
            "display": null,
            "flex": null,
            "flex_flow": null,
            "grid_area": null,
            "grid_auto_columns": null,
            "grid_auto_flow": null,
            "grid_auto_rows": null,
            "grid_column": null,
            "grid_gap": null,
            "grid_row": null,
            "grid_template_areas": null,
            "grid_template_columns": null,
            "grid_template_rows": null,
            "height": null,
            "justify_content": null,
            "justify_items": null,
            "left": null,
            "margin": null,
            "max_height": null,
            "max_width": null,
            "min_height": null,
            "min_width": null,
            "object_fit": null,
            "object_position": null,
            "order": null,
            "overflow": null,
            "overflow_x": null,
            "overflow_y": null,
            "padding": null,
            "right": null,
            "top": null,
            "visibility": null,
            "width": null
          }
        },
        "67d91181b11c4dcc9a1c4e10946bef6d": {
          "model_module": "@jupyter-widgets/controls",
          "model_module_version": "1.5.0",
          "model_name": "ProgressStyleModel",
          "state": {
            "_model_module": "@jupyter-widgets/controls",
            "_model_module_version": "1.5.0",
            "_model_name": "ProgressStyleModel",
            "_view_count": null,
            "_view_module": "@jupyter-widgets/base",
            "_view_module_version": "1.2.0",
            "_view_name": "StyleView",
            "bar_color": null,
            "description_width": ""
          }
        },
        "689ac92d11414ef29068fcebd1ec1b89": {
          "model_module": "@jupyter-widgets/controls",
          "model_module_version": "1.5.0",
          "model_name": "HTMLModel",
          "state": {
            "_dom_classes": [],
            "_model_module": "@jupyter-widgets/controls",
            "_model_module_version": "1.5.0",
            "_model_name": "HTMLModel",
            "_view_count": null,
            "_view_module": "@jupyter-widgets/controls",
            "_view_module_version": "1.5.0",
            "_view_name": "HTMLView",
            "description": "",
            "description_tooltip": null,
            "layout": "IPY_MODEL_49d6048613e54a399c342da92c557974",
            "placeholder": "​",
            "style": "IPY_MODEL_e1f87b7f4d9e449796b257a5a48ef6c4",
            "value": "Downloading model.safetensors: 100%"
          }
        },
        "6e3607b7dc614e638968237b60d57221": {
          "model_module": "@jupyter-widgets/base",
          "model_module_version": "1.2.0",
          "model_name": "LayoutModel",
          "state": {
            "_model_module": "@jupyter-widgets/base",
            "_model_module_version": "1.2.0",
            "_model_name": "LayoutModel",
            "_view_count": null,
            "_view_module": "@jupyter-widgets/base",
            "_view_module_version": "1.2.0",
            "_view_name": "LayoutView",
            "align_content": null,
            "align_items": null,
            "align_self": null,
            "border": null,
            "bottom": null,
            "display": null,
            "flex": null,
            "flex_flow": null,
            "grid_area": null,
            "grid_auto_columns": null,
            "grid_auto_flow": null,
            "grid_auto_rows": null,
            "grid_column": null,
            "grid_gap": null,
            "grid_row": null,
            "grid_template_areas": null,
            "grid_template_columns": null,
            "grid_template_rows": null,
            "height": null,
            "justify_content": null,
            "justify_items": null,
            "left": null,
            "margin": null,
            "max_height": null,
            "max_width": null,
            "min_height": null,
            "min_width": null,
            "object_fit": null,
            "object_position": null,
            "order": null,
            "overflow": null,
            "overflow_x": null,
            "overflow_y": null,
            "padding": null,
            "right": null,
            "top": null,
            "visibility": null,
            "width": null
          }
        },
        "76c7986cbaf04f0198a99ec307a0c27e": {
          "model_module": "@jupyter-widgets/controls",
          "model_module_version": "1.5.0",
          "model_name": "DescriptionStyleModel",
          "state": {
            "_model_module": "@jupyter-widgets/controls",
            "_model_module_version": "1.5.0",
            "_model_name": "DescriptionStyleModel",
            "_view_count": null,
            "_view_module": "@jupyter-widgets/base",
            "_view_module_version": "1.2.0",
            "_view_name": "StyleView",
            "description_width": ""
          }
        },
        "86f68f17d8f645d3952a35f86a29eb13": {
          "model_module": "@jupyter-widgets/base",
          "model_module_version": "1.2.0",
          "model_name": "LayoutModel",
          "state": {
            "_model_module": "@jupyter-widgets/base",
            "_model_module_version": "1.2.0",
            "_model_name": "LayoutModel",
            "_view_count": null,
            "_view_module": "@jupyter-widgets/base",
            "_view_module_version": "1.2.0",
            "_view_name": "LayoutView",
            "align_content": null,
            "align_items": null,
            "align_self": null,
            "border": null,
            "bottom": null,
            "display": null,
            "flex": null,
            "flex_flow": null,
            "grid_area": null,
            "grid_auto_columns": null,
            "grid_auto_flow": null,
            "grid_auto_rows": null,
            "grid_column": null,
            "grid_gap": null,
            "grid_row": null,
            "grid_template_areas": null,
            "grid_template_columns": null,
            "grid_template_rows": null,
            "height": null,
            "justify_content": null,
            "justify_items": null,
            "left": null,
            "margin": null,
            "max_height": null,
            "max_width": null,
            "min_height": null,
            "min_width": null,
            "object_fit": null,
            "object_position": null,
            "order": null,
            "overflow": null,
            "overflow_x": null,
            "overflow_y": null,
            "padding": null,
            "right": null,
            "top": null,
            "visibility": null,
            "width": null
          }
        },
        "8987905efaff45c39188a0b543fa2343": {
          "model_module": "@jupyter-widgets/controls",
          "model_module_version": "1.5.0",
          "model_name": "HBoxModel",
          "state": {
            "_dom_classes": [],
            "_model_module": "@jupyter-widgets/controls",
            "_model_module_version": "1.5.0",
            "_model_name": "HBoxModel",
            "_view_count": null,
            "_view_module": "@jupyter-widgets/controls",
            "_view_module_version": "1.5.0",
            "_view_name": "HBoxView",
            "box_style": "",
            "children": [
              "IPY_MODEL_689ac92d11414ef29068fcebd1ec1b89",
              "IPY_MODEL_219eff0d81a3479187a4674b58d77461",
              "IPY_MODEL_de54a24e5f8b4c3780146a5f65cb3ac9"
            ],
            "layout": "IPY_MODEL_01d433b5612f4925869fcacb1aafed11"
          }
        },
        "95dff7dae4854e00bff18e3b95532180": {
          "model_module": "@jupyter-widgets/controls",
          "model_module_version": "1.5.0",
          "model_name": "FloatProgressModel",
          "state": {
            "_dom_classes": [],
            "_model_module": "@jupyter-widgets/controls",
            "_model_module_version": "1.5.0",
            "_model_name": "FloatProgressModel",
            "_view_count": null,
            "_view_module": "@jupyter-widgets/controls",
            "_view_module_version": "1.5.0",
            "_view_name": "ProgressView",
            "bar_style": "success",
            "description": "",
            "description_tooltip": null,
            "layout": "IPY_MODEL_6e3607b7dc614e638968237b60d57221",
            "max": 231508,
            "min": 0,
            "orientation": "horizontal",
            "style": "IPY_MODEL_cce020115ed24d80ac88d8c89f141360",
            "value": 231508
          }
        },
        "a3b71073eabb4c48831b574cb763f15a": {
          "model_module": "@jupyter-widgets/controls",
          "model_module_version": "1.5.0",
          "model_name": "HTMLModel",
          "state": {
            "_dom_classes": [],
            "_model_module": "@jupyter-widgets/controls",
            "_model_module_version": "1.5.0",
            "_model_name": "HTMLModel",
            "_view_count": null,
            "_view_module": "@jupyter-widgets/controls",
            "_view_module_version": "1.5.0",
            "_view_name": "HTMLView",
            "description": "",
            "description_tooltip": null,
            "layout": "IPY_MODEL_e3f1492a5d344d4788a6deb7c8e8d632",
            "placeholder": "​",
            "style": "IPY_MODEL_54ffa10b88be4819acca71fa934b1678",
            "value": " 570/570 [00:00&lt;00:00, 10.2kB/s]"
          }
        },
        "a4b245840eb6414d90ac953fe77f1e0b": {
          "model_module": "@jupyter-widgets/base",
          "model_module_version": "1.2.0",
          "model_name": "LayoutModel",
          "state": {
            "_model_module": "@jupyter-widgets/base",
            "_model_module_version": "1.2.0",
            "_model_name": "LayoutModel",
            "_view_count": null,
            "_view_module": "@jupyter-widgets/base",
            "_view_module_version": "1.2.0",
            "_view_name": "LayoutView",
            "align_content": null,
            "align_items": null,
            "align_self": null,
            "border": null,
            "bottom": null,
            "display": null,
            "flex": null,
            "flex_flow": null,
            "grid_area": null,
            "grid_auto_columns": null,
            "grid_auto_flow": null,
            "grid_auto_rows": null,
            "grid_column": null,
            "grid_gap": null,
            "grid_row": null,
            "grid_template_areas": null,
            "grid_template_columns": null,
            "grid_template_rows": null,
            "height": null,
            "justify_content": null,
            "justify_items": null,
            "left": null,
            "margin": null,
            "max_height": null,
            "max_width": null,
            "min_height": null,
            "min_width": null,
            "object_fit": null,
            "object_position": null,
            "order": null,
            "overflow": null,
            "overflow_x": null,
            "overflow_y": null,
            "padding": null,
            "right": null,
            "top": null,
            "visibility": null,
            "width": null
          }
        },
        "aff5a0e8fbc54b72b00e763f397fb289": {
          "model_module": "@jupyter-widgets/base",
          "model_module_version": "1.2.0",
          "model_name": "LayoutModel",
          "state": {
            "_model_module": "@jupyter-widgets/base",
            "_model_module_version": "1.2.0",
            "_model_name": "LayoutModel",
            "_view_count": null,
            "_view_module": "@jupyter-widgets/base",
            "_view_module_version": "1.2.0",
            "_view_name": "LayoutView",
            "align_content": null,
            "align_items": null,
            "align_self": null,
            "border": null,
            "bottom": null,
            "display": null,
            "flex": null,
            "flex_flow": null,
            "grid_area": null,
            "grid_auto_columns": null,
            "grid_auto_flow": null,
            "grid_auto_rows": null,
            "grid_column": null,
            "grid_gap": null,
            "grid_row": null,
            "grid_template_areas": null,
            "grid_template_columns": null,
            "grid_template_rows": null,
            "height": null,
            "justify_content": null,
            "justify_items": null,
            "left": null,
            "margin": null,
            "max_height": null,
            "max_width": null,
            "min_height": null,
            "min_width": null,
            "object_fit": null,
            "object_position": null,
            "order": null,
            "overflow": null,
            "overflow_x": null,
            "overflow_y": null,
            "padding": null,
            "right": null,
            "top": null,
            "visibility": null,
            "width": null
          }
        },
        "b85a79a33f2d4547a32897bcf663595e": {
          "model_module": "@jupyter-widgets/controls",
          "model_module_version": "1.5.0",
          "model_name": "HTMLModel",
          "state": {
            "_dom_classes": [],
            "_model_module": "@jupyter-widgets/controls",
            "_model_module_version": "1.5.0",
            "_model_name": "HTMLModel",
            "_view_count": null,
            "_view_module": "@jupyter-widgets/controls",
            "_view_module_version": "1.5.0",
            "_view_name": "HTMLView",
            "description": "",
            "description_tooltip": null,
            "layout": "IPY_MODEL_1cc5c4ee950846c6ba1d25d87301499c",
            "placeholder": "​",
            "style": "IPY_MODEL_15a4f7ab5cd24a47af482904fe4c1b17",
            "value": "Downloading (…)okenizer_config.json: 100%"
          }
        },
        "bb727e9810114f459a70b319f76bebc6": {
          "model_module": "@jupyter-widgets/base",
          "model_module_version": "1.2.0",
          "model_name": "LayoutModel",
          "state": {
            "_model_module": "@jupyter-widgets/base",
            "_model_module_version": "1.2.0",
            "_model_name": "LayoutModel",
            "_view_count": null,
            "_view_module": "@jupyter-widgets/base",
            "_view_module_version": "1.2.0",
            "_view_name": "LayoutView",
            "align_content": null,
            "align_items": null,
            "align_self": null,
            "border": null,
            "bottom": null,
            "display": null,
            "flex": null,
            "flex_flow": null,
            "grid_area": null,
            "grid_auto_columns": null,
            "grid_auto_flow": null,
            "grid_auto_rows": null,
            "grid_column": null,
            "grid_gap": null,
            "grid_row": null,
            "grid_template_areas": null,
            "grid_template_columns": null,
            "grid_template_rows": null,
            "height": null,
            "justify_content": null,
            "justify_items": null,
            "left": null,
            "margin": null,
            "max_height": null,
            "max_width": null,
            "min_height": null,
            "min_width": null,
            "object_fit": null,
            "object_position": null,
            "order": null,
            "overflow": null,
            "overflow_x": null,
            "overflow_y": null,
            "padding": null,
            "right": null,
            "top": null,
            "visibility": null,
            "width": null
          }
        },
        "c93408368361445080cdad6dddf1a3bb": {
          "model_module": "@jupyter-widgets/base",
          "model_module_version": "1.2.0",
          "model_name": "LayoutModel",
          "state": {
            "_model_module": "@jupyter-widgets/base",
            "_model_module_version": "1.2.0",
            "_model_name": "LayoutModel",
            "_view_count": null,
            "_view_module": "@jupyter-widgets/base",
            "_view_module_version": "1.2.0",
            "_view_name": "LayoutView",
            "align_content": null,
            "align_items": null,
            "align_self": null,
            "border": null,
            "bottom": null,
            "display": null,
            "flex": null,
            "flex_flow": null,
            "grid_area": null,
            "grid_auto_columns": null,
            "grid_auto_flow": null,
            "grid_auto_rows": null,
            "grid_column": null,
            "grid_gap": null,
            "grid_row": null,
            "grid_template_areas": null,
            "grid_template_columns": null,
            "grid_template_rows": null,
            "height": null,
            "justify_content": null,
            "justify_items": null,
            "left": null,
            "margin": null,
            "max_height": null,
            "max_width": null,
            "min_height": null,
            "min_width": null,
            "object_fit": null,
            "object_position": null,
            "order": null,
            "overflow": null,
            "overflow_x": null,
            "overflow_y": null,
            "padding": null,
            "right": null,
            "top": null,
            "visibility": null,
            "width": null
          }
        },
        "cce020115ed24d80ac88d8c89f141360": {
          "model_module": "@jupyter-widgets/controls",
          "model_module_version": "1.5.0",
          "model_name": "ProgressStyleModel",
          "state": {
            "_model_module": "@jupyter-widgets/controls",
            "_model_module_version": "1.5.0",
            "_model_name": "ProgressStyleModel",
            "_view_count": null,
            "_view_module": "@jupyter-widgets/base",
            "_view_module_version": "1.2.0",
            "_view_name": "StyleView",
            "bar_color": null,
            "description_width": ""
          }
        },
        "d475e4affb484953a77d12afb0b85eab": {
          "model_module": "@jupyter-widgets/base",
          "model_module_version": "1.2.0",
          "model_name": "LayoutModel",
          "state": {
            "_model_module": "@jupyter-widgets/base",
            "_model_module_version": "1.2.0",
            "_model_name": "LayoutModel",
            "_view_count": null,
            "_view_module": "@jupyter-widgets/base",
            "_view_module_version": "1.2.0",
            "_view_name": "LayoutView",
            "align_content": null,
            "align_items": null,
            "align_self": null,
            "border": null,
            "bottom": null,
            "display": null,
            "flex": null,
            "flex_flow": null,
            "grid_area": null,
            "grid_auto_columns": null,
            "grid_auto_flow": null,
            "grid_auto_rows": null,
            "grid_column": null,
            "grid_gap": null,
            "grid_row": null,
            "grid_template_areas": null,
            "grid_template_columns": null,
            "grid_template_rows": null,
            "height": null,
            "justify_content": null,
            "justify_items": null,
            "left": null,
            "margin": null,
            "max_height": null,
            "max_width": null,
            "min_height": null,
            "min_width": null,
            "object_fit": null,
            "object_position": null,
            "order": null,
            "overflow": null,
            "overflow_x": null,
            "overflow_y": null,
            "padding": null,
            "right": null,
            "top": null,
            "visibility": null,
            "width": null
          }
        },
        "d525b9bcdb4546b699981ca411c03054": {
          "model_module": "@jupyter-widgets/base",
          "model_module_version": "1.2.0",
          "model_name": "LayoutModel",
          "state": {
            "_model_module": "@jupyter-widgets/base",
            "_model_module_version": "1.2.0",
            "_model_name": "LayoutModel",
            "_view_count": null,
            "_view_module": "@jupyter-widgets/base",
            "_view_module_version": "1.2.0",
            "_view_name": "LayoutView",
            "align_content": null,
            "align_items": null,
            "align_self": null,
            "border": null,
            "bottom": null,
            "display": null,
            "flex": null,
            "flex_flow": null,
            "grid_area": null,
            "grid_auto_columns": null,
            "grid_auto_flow": null,
            "grid_auto_rows": null,
            "grid_column": null,
            "grid_gap": null,
            "grid_row": null,
            "grid_template_areas": null,
            "grid_template_columns": null,
            "grid_template_rows": null,
            "height": null,
            "justify_content": null,
            "justify_items": null,
            "left": null,
            "margin": null,
            "max_height": null,
            "max_width": null,
            "min_height": null,
            "min_width": null,
            "object_fit": null,
            "object_position": null,
            "order": null,
            "overflow": null,
            "overflow_x": null,
            "overflow_y": null,
            "padding": null,
            "right": null,
            "top": null,
            "visibility": null,
            "width": null
          }
        },
        "d6d29ba521e34d68b93125172e1fa0bd": {
          "model_module": "@jupyter-widgets/controls",
          "model_module_version": "1.5.0",
          "model_name": "HTMLModel",
          "state": {
            "_dom_classes": [],
            "_model_module": "@jupyter-widgets/controls",
            "_model_module_version": "1.5.0",
            "_model_name": "HTMLModel",
            "_view_count": null,
            "_view_module": "@jupyter-widgets/controls",
            "_view_module_version": "1.5.0",
            "_view_name": "HTMLView",
            "description": "",
            "description_tooltip": null,
            "layout": "IPY_MODEL_f9575d7bb42c421cab9753a1878faa50",
            "placeholder": "​",
            "style": "IPY_MODEL_f803588ca5d840028855454d6269ff60",
            "value": "Downloading (…)solve/main/vocab.txt: 100%"
          }
        },
        "dd80c68536ed4d51b118d667e8be7537": {
          "model_module": "@jupyter-widgets/controls",
          "model_module_version": "1.5.0",
          "model_name": "ProgressStyleModel",
          "state": {
            "_model_module": "@jupyter-widgets/controls",
            "_model_module_version": "1.5.0",
            "_model_name": "ProgressStyleModel",
            "_view_count": null,
            "_view_module": "@jupyter-widgets/base",
            "_view_module_version": "1.2.0",
            "_view_name": "StyleView",
            "bar_color": null,
            "description_width": ""
          }
        },
        "de54a24e5f8b4c3780146a5f65cb3ac9": {
          "model_module": "@jupyter-widgets/controls",
          "model_module_version": "1.5.0",
          "model_name": "HTMLModel",
          "state": {
            "_dom_classes": [],
            "_model_module": "@jupyter-widgets/controls",
            "_model_module_version": "1.5.0",
            "_model_name": "HTMLModel",
            "_view_count": null,
            "_view_module": "@jupyter-widgets/controls",
            "_view_module_version": "1.5.0",
            "_view_name": "HTMLView",
            "description": "",
            "description_tooltip": null,
            "layout": "IPY_MODEL_613c38b31e1343b3a9aa55893309beaa",
            "placeholder": "​",
            "style": "IPY_MODEL_36e818783c3643df885912802367e7c1",
            "value": " 440M/440M [00:01&lt;00:00, 252MB/s]"
          }
        },
        "e16dab1f2b3d40dbb4e9831bae53f60e": {
          "model_module": "@jupyter-widgets/controls",
          "model_module_version": "1.5.0",
          "model_name": "HBoxModel",
          "state": {
            "_dom_classes": [],
            "_model_module": "@jupyter-widgets/controls",
            "_model_module_version": "1.5.0",
            "_model_name": "HBoxModel",
            "_view_count": null,
            "_view_module": "@jupyter-widgets/controls",
            "_view_module_version": "1.5.0",
            "_view_name": "HBoxView",
            "box_style": "",
            "children": [
              "IPY_MODEL_d6d29ba521e34d68b93125172e1fa0bd",
              "IPY_MODEL_95dff7dae4854e00bff18e3b95532180",
              "IPY_MODEL_faf80d9976dc4afeb953a8e419ace17c"
            ],
            "layout": "IPY_MODEL_86f68f17d8f645d3952a35f86a29eb13"
          }
        },
        "e1f87b7f4d9e449796b257a5a48ef6c4": {
          "model_module": "@jupyter-widgets/controls",
          "model_module_version": "1.5.0",
          "model_name": "DescriptionStyleModel",
          "state": {
            "_model_module": "@jupyter-widgets/controls",
            "_model_module_version": "1.5.0",
            "_model_name": "DescriptionStyleModel",
            "_view_count": null,
            "_view_module": "@jupyter-widgets/base",
            "_view_module_version": "1.2.0",
            "_view_name": "StyleView",
            "description_width": ""
          }
        },
        "e3f1492a5d344d4788a6deb7c8e8d632": {
          "model_module": "@jupyter-widgets/base",
          "model_module_version": "1.2.0",
          "model_name": "LayoutModel",
          "state": {
            "_model_module": "@jupyter-widgets/base",
            "_model_module_version": "1.2.0",
            "_model_name": "LayoutModel",
            "_view_count": null,
            "_view_module": "@jupyter-widgets/base",
            "_view_module_version": "1.2.0",
            "_view_name": "LayoutView",
            "align_content": null,
            "align_items": null,
            "align_self": null,
            "border": null,
            "bottom": null,
            "display": null,
            "flex": null,
            "flex_flow": null,
            "grid_area": null,
            "grid_auto_columns": null,
            "grid_auto_flow": null,
            "grid_auto_rows": null,
            "grid_column": null,
            "grid_gap": null,
            "grid_row": null,
            "grid_template_areas": null,
            "grid_template_columns": null,
            "grid_template_rows": null,
            "height": null,
            "justify_content": null,
            "justify_items": null,
            "left": null,
            "margin": null,
            "max_height": null,
            "max_width": null,
            "min_height": null,
            "min_width": null,
            "object_fit": null,
            "object_position": null,
            "order": null,
            "overflow": null,
            "overflow_x": null,
            "overflow_y": null,
            "padding": null,
            "right": null,
            "top": null,
            "visibility": null,
            "width": null
          }
        },
        "f06b651a7b7f45a39274b4f374e574c8": {
          "model_module": "@jupyter-widgets/controls",
          "model_module_version": "1.5.0",
          "model_name": "DescriptionStyleModel",
          "state": {
            "_model_module": "@jupyter-widgets/controls",
            "_model_module_version": "1.5.0",
            "_model_name": "DescriptionStyleModel",
            "_view_count": null,
            "_view_module": "@jupyter-widgets/base",
            "_view_module_version": "1.2.0",
            "_view_name": "StyleView",
            "description_width": ""
          }
        },
        "f4d929043b6345909fa0ea2b11d9ae5f": {
          "model_module": "@jupyter-widgets/controls",
          "model_module_version": "1.5.0",
          "model_name": "HBoxModel",
          "state": {
            "_dom_classes": [],
            "_model_module": "@jupyter-widgets/controls",
            "_model_module_version": "1.5.0",
            "_model_name": "HBoxModel",
            "_view_count": null,
            "_view_module": "@jupyter-widgets/controls",
            "_view_module_version": "1.5.0",
            "_view_name": "HBoxView",
            "box_style": "",
            "children": [
              "IPY_MODEL_b85a79a33f2d4547a32897bcf663595e",
              "IPY_MODEL_2065b6339d8746b0a335396d3a16dd11",
              "IPY_MODEL_1f9924c7bbb543ca8a7d167e3990f55b"
            ],
            "layout": "IPY_MODEL_a4b245840eb6414d90ac953fe77f1e0b"
          }
        },
        "f803588ca5d840028855454d6269ff60": {
          "model_module": "@jupyter-widgets/controls",
          "model_module_version": "1.5.0",
          "model_name": "DescriptionStyleModel",
          "state": {
            "_model_module": "@jupyter-widgets/controls",
            "_model_module_version": "1.5.0",
            "_model_name": "DescriptionStyleModel",
            "_view_count": null,
            "_view_module": "@jupyter-widgets/base",
            "_view_module_version": "1.2.0",
            "_view_name": "StyleView",
            "description_width": ""
          }
        },
        "f9575d7bb42c421cab9753a1878faa50": {
          "model_module": "@jupyter-widgets/base",
          "model_module_version": "1.2.0",
          "model_name": "LayoutModel",
          "state": {
            "_model_module": "@jupyter-widgets/base",
            "_model_module_version": "1.2.0",
            "_model_name": "LayoutModel",
            "_view_count": null,
            "_view_module": "@jupyter-widgets/base",
            "_view_module_version": "1.2.0",
            "_view_name": "LayoutView",
            "align_content": null,
            "align_items": null,
            "align_self": null,
            "border": null,
            "bottom": null,
            "display": null,
            "flex": null,
            "flex_flow": null,
            "grid_area": null,
            "grid_auto_columns": null,
            "grid_auto_flow": null,
            "grid_auto_rows": null,
            "grid_column": null,
            "grid_gap": null,
            "grid_row": null,
            "grid_template_areas": null,
            "grid_template_columns": null,
            "grid_template_rows": null,
            "height": null,
            "justify_content": null,
            "justify_items": null,
            "left": null,
            "margin": null,
            "max_height": null,
            "max_width": null,
            "min_height": null,
            "min_width": null,
            "object_fit": null,
            "object_position": null,
            "order": null,
            "overflow": null,
            "overflow_x": null,
            "overflow_y": null,
            "padding": null,
            "right": null,
            "top": null,
            "visibility": null,
            "width": null
          }
        },
        "faf80d9976dc4afeb953a8e419ace17c": {
          "model_module": "@jupyter-widgets/controls",
          "model_module_version": "1.5.0",
          "model_name": "HTMLModel",
          "state": {
            "_dom_classes": [],
            "_model_module": "@jupyter-widgets/controls",
            "_model_module_version": "1.5.0",
            "_model_name": "HTMLModel",
            "_view_count": null,
            "_view_module": "@jupyter-widgets/controls",
            "_view_module_version": "1.5.0",
            "_view_name": "HTMLView",
            "description": "",
            "description_tooltip": null,
            "layout": "IPY_MODEL_aff5a0e8fbc54b72b00e763f397fb289",
            "placeholder": "​",
            "style": "IPY_MODEL_f06b651a7b7f45a39274b4f374e574c8",
            "value": " 232k/232k [00:00&lt;00:00, 2.56MB/s]"
          }
        }
      }
    }
  },
  "nbformat": 4,
  "nbformat_minor": 0
}
